{
  "metadata": {
    "kernelspec": {
      "language": "python",
      "display_name": "Python 3",
      "name": "python3"
    },
    "language_info": {
      "name": "python",
      "version": "3.10.14",
      "mimetype": "text/x-python",
      "codemirror_mode": {
        "name": "ipython",
        "version": 3
      },
      "pygments_lexer": "ipython3",
      "nbconvert_exporter": "python",
      "file_extension": ".py"
    },
    "kaggle": {
      "accelerator": "gpu",
      "dataSources": [
        {
          "sourceId": 182633,
          "sourceType": "datasetVersion",
          "datasetId": 78313
        },
        {
          "sourceId": 210761,
          "sourceType": "modelInstanceVersion",
          "isSourceIdPinned": true,
          "modelInstanceId": 179675,
          "modelId": 201946
        },
        {
          "sourceId": 212093,
          "sourceType": "modelInstanceVersion",
          "isSourceIdPinned": true,
          "modelInstanceId": 180803,
          "modelId": 203045
        },
        {
          "sourceId": 212147,
          "sourceType": "modelInstanceVersion",
          "isSourceIdPinned": true,
          "modelInstanceId": 180847,
          "modelId": 203089
        },
        {
          "sourceId": 213963,
          "sourceType": "modelInstanceVersion",
          "isSourceIdPinned": true,
          "modelInstanceId": 182389,
          "modelId": 204603
        }
      ],
      "dockerImageVersionId": 30805,
      "isInternetEnabled": true,
      "language": "python",
      "sourceType": "notebook",
      "isGpuEnabled": true
    },
    "colab": {
      "name": "ensemble-model",
      "provenance": [],
      "include_colab_link": true
    }
  },
  "nbformat_minor": 0,
  "nbformat": 4,
  "cells": [
    {
      "cell_type": "markdown",
      "metadata": {
        "id": "view-in-github",
        "colab_type": "text"
      },
      "source": [
        "<a href=\"https://colab.research.google.com/github/Pilla-Divya-Vidhyasree/leaf-disease-detection/blob/main/model.ipynb\" target=\"_parent\"><img src=\"https://colab.research.google.com/assets/colab-badge.svg\" alt=\"Open In Colab\"/></a>"
      ]
    },
    {
      "source": [
        "# IMPORTANT: SOME KAGGLE DATA SOURCES ARE PRIVATE\n",
        "# RUN THIS CELL IN ORDER TO IMPORT YOUR KAGGLE DATA SOURCES.\n",
        "import kagglehub\n",
        "kagglehub.login()\n"
      ],
      "metadata": {
        "id": "B9Ux_Vkn7qBb"
      },
      "cell_type": "code",
      "outputs": [],
      "execution_count": null
    },
    {
      "source": [
        "# IMPORTANT: RUN THIS CELL IN ORDER TO IMPORT YOUR KAGGLE DATA SOURCES,\n",
        "# THEN FEEL FREE TO DELETE THIS CELL.\n",
        "# NOTE: THIS NOTEBOOK ENVIRONMENT DIFFERS FROM KAGGLE'S PYTHON\n",
        "# ENVIRONMENT SO THERE MAY BE MISSING LIBRARIES USED BY YOUR\n",
        "# NOTEBOOK.\n",
        "\n",
        "vipoooool_new_plant_diseases_dataset_path = kagglehub.dataset_download('vipoooool/new-plant-diseases-dataset')\n",
        "pilladivya_vgg_tensorflow2_default_1_path = kagglehub.model_download('pilladivya/vgg/TensorFlow2/default/1')\n",
        "pilladivya_inceptionv3_tensorflow2_default_1_path = kagglehub.model_download('pilladivya/inceptionv3/TensorFlow2/default/1')\n",
        "pilladivya_inceptionv3_updated_tensorflow2_default_1_path = kagglehub.model_download('pilladivya/inceptionv3_updated/TensorFlow2/default/1')\n",
        "pilladivya_ensemblelogic_keras_default_1_path = kagglehub.model_download('pilladivya/ensemblelogic/Keras/default/1')\n",
        "\n",
        "print('Data source import complete.')\n"
      ],
      "metadata": {
        "id": "XjYmKhVY7qBf"
      },
      "cell_type": "code",
      "outputs": [],
      "execution_count": null
    },
    {
      "cell_type": "code",
      "source": [
        "from torchvision.datasets import ImageFolder\n",
        "import torchvision.transforms as transforms\n",
        "import random\n",
        "from torch.utils.data import DataLoader\n",
        "import torch\n",
        "import torch.nn.functional as F\n",
        "import torchvision.models as models\n",
        "import torch.nn as nn\n",
        "from torchvision.datasets import ImageFolder\n",
        "from torchvision import transforms\n",
        "import pandas as pd\n",
        "import matplotlib.pyplot as plt"
      ],
      "metadata": {
        "trusted": true,
        "execution": {
          "iopub.status.busy": "2024-12-30T00:51:01.811569Z",
          "iopub.execute_input": "2024-12-30T00:51:01.811831Z",
          "iopub.status.idle": "2024-12-30T00:51:06.404618Z",
          "shell.execute_reply.started": "2024-12-30T00:51:01.811797Z",
          "shell.execute_reply": "2024-12-30T00:51:06.402996Z"
        },
        "id": "ML2dSRCB7qBg"
      },
      "outputs": [],
      "execution_count": null
    },
    {
      "cell_type": "code",
      "source": [
        "import os\n",
        "\n",
        "data_dir = '/kaggle/input/new-plant-diseases-dataset/New Plant Diseases Dataset(Augmented)/New Plant Diseases Dataset(Augmented)'\n",
        "\n",
        "train_dir = data_dir + '/train'\n",
        "test_dir = data_dir + '/valid'\n",
        "data_names = os.listdir(train_dir)"
      ],
      "metadata": {
        "trusted": true,
        "execution": {
          "iopub.status.busy": "2024-12-30T00:51:09.237172Z",
          "iopub.execute_input": "2024-12-30T00:51:09.237498Z",
          "iopub.status.idle": "2024-12-30T00:51:09.250407Z",
          "shell.execute_reply.started": "2024-12-30T00:51:09.237472Z",
          "shell.execute_reply": "2024-12-30T00:51:09.249545Z"
        },
        "id": "gMo-6v-D7qBg"
      },
      "outputs": [],
      "execution_count": null
    },
    {
      "cell_type": "code",
      "source": [
        "#printing diseasetypes\n",
        "print(data_names)"
      ],
      "metadata": {
        "trusted": true,
        "execution": {
          "iopub.status.busy": "2024-12-26T12:56:07.067017Z",
          "iopub.execute_input": "2024-12-26T12:56:07.067344Z",
          "iopub.status.idle": "2024-12-26T12:56:07.072148Z",
          "shell.execute_reply.started": "2024-12-26T12:56:07.067318Z",
          "shell.execute_reply": "2024-12-26T12:56:07.071227Z"
        },
        "id": "BVqMyCLF7qBg"
      },
      "outputs": [],
      "execution_count": null
    },
    {
      "cell_type": "code",
      "source": [
        "plants = []\n",
        "NumberOfDiseases = 0\n",
        "for plant in data_names:\n",
        "    if plant.split('___')[0] not in plants:\n",
        "        plants.append(plant.split('___')[0])\n",
        "    if plant.split('___')[1] != 'healthy':\n",
        "        NumberOfDiseases += 1"
      ],
      "metadata": {
        "trusted": true,
        "execution": {
          "iopub.status.busy": "2024-12-26T12:56:07.511152Z",
          "iopub.execute_input": "2024-12-26T12:56:07.511884Z",
          "iopub.status.idle": "2024-12-26T12:56:07.516499Z",
          "shell.execute_reply.started": "2024-12-26T12:56:07.511851Z",
          "shell.execute_reply": "2024-12-26T12:56:07.515732Z"
        },
        "id": "OFjhpNXH7qBh"
      },
      "outputs": [],
      "execution_count": null
    },
    {
      "cell_type": "code",
      "source": [
        "# unique plants in the dataset\n",
        "print(f\"Unique Plants are: \\n{plants}\")"
      ],
      "metadata": {
        "trusted": true,
        "execution": {
          "iopub.status.busy": "2024-12-26T12:56:11.047573Z",
          "iopub.execute_input": "2024-12-26T12:56:11.04826Z",
          "iopub.status.idle": "2024-12-26T12:56:11.052482Z",
          "shell.execute_reply.started": "2024-12-26T12:56:11.048228Z",
          "shell.execute_reply": "2024-12-26T12:56:11.051634Z"
        },
        "id": "8Y1VQfnO7qBh"
      },
      "outputs": [],
      "execution_count": null
    },
    {
      "cell_type": "code",
      "source": [
        "# number of unique diseases\n",
        "print(\"Number of diseases: {}\".format(NumberOfDiseases))"
      ],
      "metadata": {
        "trusted": true,
        "execution": {
          "iopub.status.busy": "2024-12-26T12:56:11.417547Z",
          "iopub.execute_input": "2024-12-26T12:56:11.417858Z",
          "iopub.status.idle": "2024-12-26T12:56:11.42257Z",
          "shell.execute_reply.started": "2024-12-26T12:56:11.417833Z",
          "shell.execute_reply": "2024-12-26T12:56:11.421626Z"
        },
        "id": "rBCyiGng7qBh"
      },
      "outputs": [],
      "execution_count": null
    },
    {
      "cell_type": "code",
      "source": [
        "# Number of images for each disease\n",
        "nums = {}\n",
        "for disease in data_names:\n",
        "    nums[disease] = len(os.listdir(train_dir + '/' + disease))\n",
        "\n",
        "# converting the nums dictionary to pandas dataframe passing index as plant name and number of images as column\n",
        "\n",
        "img_per_class = pd.DataFrame(nums.values(), index=nums.keys(), columns=[\"no. of images\"])\n",
        "img_per_class"
      ],
      "metadata": {
        "trusted": true,
        "execution": {
          "iopub.status.busy": "2024-12-26T12:56:11.778057Z",
          "iopub.execute_input": "2024-12-26T12:56:11.778379Z",
          "iopub.status.idle": "2024-12-26T12:56:14.474038Z",
          "shell.execute_reply.started": "2024-12-26T12:56:11.778353Z",
          "shell.execute_reply": "2024-12-26T12:56:14.473243Z"
        },
        "id": "-A27bTJn7qBh"
      },
      "outputs": [],
      "execution_count": null
    },
    {
      "cell_type": "code",
      "source": [
        "# plotting number of images available for each disease\n",
        "index = [n for n in range(38)]\n",
        "plt.figure(figsize=(20, 7))\n",
        "plt.bar(index, [n for n in nums.values()], width=0.3)\n",
        "plt.xlabel('Plants/Diseases', fontsize=10)\n",
        "plt.ylabel('No of images available', fontsize=10)\n",
        "plt.xticks(index, data_names, fontsize=12, rotation=90)\n",
        "plt.title('Images per each class of plant disease')"
      ],
      "metadata": {
        "trusted": true,
        "execution": {
          "iopub.status.busy": "2024-12-26T12:56:14.476182Z",
          "iopub.execute_input": "2024-12-26T12:56:14.476795Z",
          "iopub.status.idle": "2024-12-26T12:56:15.18055Z",
          "shell.execute_reply.started": "2024-12-26T12:56:14.476752Z",
          "shell.execute_reply": "2024-12-26T12:56:15.179663Z"
        },
        "id": "RCbcsObU7qBi"
      },
      "outputs": [],
      "execution_count": null
    },
    {
      "cell_type": "code",
      "source": [
        "n_train = 0\n",
        "for value in nums.values():\n",
        "    n_train += value\n",
        "print(f\"There are {n_train} images for training\")"
      ],
      "metadata": {
        "trusted": true,
        "execution": {
          "iopub.status.busy": "2024-12-26T12:56:15.181852Z",
          "iopub.execute_input": "2024-12-26T12:56:15.182501Z",
          "iopub.status.idle": "2024-12-26T12:56:15.188104Z",
          "shell.execute_reply.started": "2024-12-26T12:56:15.18246Z",
          "shell.execute_reply": "2024-12-26T12:56:15.187272Z"
        },
        "id": "_UMJ_rox7qBi"
      },
      "outputs": [],
      "execution_count": null
    },
    {
      "cell_type": "code",
      "source": [
        "'''\n",
        "# datasets for validation and training\n",
        "train = ImageFolder(train_dir, transform=transforms.ToTensor())\n",
        "valid = ImageFolder(valid_dir, transform=transforms.ToTensor()) '''"
      ],
      "metadata": {
        "trusted": true,
        "execution": {
          "iopub.status.busy": "2024-12-26T12:56:15.324006Z",
          "iopub.execute_input": "2024-12-26T12:56:15.324607Z",
          "iopub.status.idle": "2024-12-26T12:56:15.329853Z",
          "shell.execute_reply.started": "2024-12-26T12:56:15.324576Z",
          "shell.execute_reply": "2024-12-26T12:56:15.328971Z"
        },
        "id": "ohAXb88A7qBi"
      },
      "outputs": [],
      "execution_count": null
    },
    {
      "cell_type": "code",
      "source": [
        "'''img, label = train[0]\n",
        "print(img.shape, label)'''"
      ],
      "metadata": {
        "trusted": true,
        "execution": {
          "iopub.status.busy": "2024-12-26T12:56:15.657902Z",
          "iopub.execute_input": "2024-12-26T12:56:15.658586Z",
          "iopub.status.idle": "2024-12-26T12:56:15.66343Z",
          "shell.execute_reply.started": "2024-12-26T12:56:15.658556Z",
          "shell.execute_reply": "2024-12-26T12:56:15.662535Z"
        },
        "id": "mci67rcA7qBi"
      },
      "outputs": [],
      "execution_count": null
    },
    {
      "cell_type": "code",
      "source": [
        "'''\n",
        "#Printing random image\n",
        "random_img, random_label = train[random.randint(0,len(train)-1)]\n",
        "plt.imshow(random_img.permute(1,2,0))\n",
        "plt.axis('off')\n",
        "plt.title(f'label: {train.classes[random_label]}')\n",
        "plt.show()'''"
      ],
      "metadata": {
        "trusted": true,
        "execution": {
          "iopub.status.busy": "2024-12-26T12:56:15.928082Z",
          "iopub.execute_input": "2024-12-26T12:56:15.928385Z",
          "iopub.status.idle": "2024-12-26T12:56:15.934228Z",
          "shell.execute_reply.started": "2024-12-26T12:56:15.928361Z",
          "shell.execute_reply": "2024-12-26T12:56:15.933243Z"
        },
        "id": "N_gcTzc37qBi"
      },
      "outputs": [],
      "execution_count": null
    },
    {
      "cell_type": "code",
      "source": [
        "import tensorflow as tf\n",
        "size = 224\n",
        "\n",
        "\n",
        "train_generator=tf.keras.preprocessing.image.ImageDataGenerator(\n",
        "    rescale=1/255.0,\n",
        "    validation_split=0.1,\n",
        ").flow_from_directory(train_dir,\n",
        "                      batch_size=16,\n",
        "                      target_size=(size,size),\n",
        "                      subset=\"training\",\n",
        "                      color_mode='rgb',\n",
        "                      class_mode='categorical',\n",
        "                      shuffle=True)"
      ],
      "metadata": {
        "trusted": true,
        "execution": {
          "iopub.status.busy": "2024-12-30T00:51:20.535306Z",
          "iopub.execute_input": "2024-12-30T00:51:20.535631Z",
          "iopub.status.idle": "2024-12-30T00:52:31.325435Z",
          "shell.execute_reply.started": "2024-12-30T00:51:20.535604Z",
          "shell.execute_reply": "2024-12-30T00:52:31.32453Z"
        },
        "id": "_SLQODAQ7qBi"
      },
      "outputs": [],
      "execution_count": null
    },
    {
      "cell_type": "code",
      "source": [
        "import numpy as np\n",
        "\n",
        "classes=list(train_generator.class_indices.keys())\n",
        "plt.figure(figsize=(20,20))\n",
        "for X_batch, y_batch in train_generator:\n",
        "    for i in range(0,16):\n",
        "        plt.subplot(4,4,i+1)\n",
        "        plt.imshow(X_batch[i])\n",
        "        plt.title(classes[np.where(y_batch[i]==1)[0][0]])\n",
        "    plt.show()\n",
        "    break"
      ],
      "metadata": {
        "trusted": true,
        "execution": {
          "iopub.status.busy": "2024-12-28T00:49:59.929098Z",
          "iopub.execute_input": "2024-12-28T00:49:59.929608Z",
          "iopub.status.idle": "2024-12-28T00:50:03.363004Z",
          "shell.execute_reply.started": "2024-12-28T00:49:59.929578Z",
          "shell.execute_reply": "2024-12-28T00:50:03.36193Z"
        },
        "id": "nrgRysuL7qBi"
      },
      "outputs": [],
      "execution_count": null
    },
    {
      "cell_type": "code",
      "source": [
        "valid_generator=tf.keras.preprocessing.image.ImageDataGenerator(\n",
        "    rescale=1/255.0,\n",
        "    validation_split=0.1,\n",
        ").flow_from_directory(train_dir,\n",
        "                      batch_size=16,\n",
        "                      target_size=(size,size),\n",
        "                      subset='validation',\n",
        "                      color_mode='rgb',\n",
        "                      class_mode='categorical',\n",
        "                      shuffle=False)"
      ],
      "metadata": {
        "trusted": true,
        "execution": {
          "iopub.status.busy": "2024-12-30T00:52:43.025034Z",
          "iopub.execute_input": "2024-12-30T00:52:43.025647Z",
          "iopub.status.idle": "2024-12-30T00:52:56.999007Z",
          "shell.execute_reply.started": "2024-12-30T00:52:43.025617Z",
          "shell.execute_reply": "2024-12-30T00:52:56.998143Z"
        },
        "id": "LusmuFhl7qBj"
      },
      "outputs": [],
      "execution_count": null
    },
    {
      "cell_type": "code",
      "source": [
        "test_generator=tf.keras.preprocessing.image.ImageDataGenerator(\n",
        "    rescale=1/255.0,\n",
        ").flow_from_directory(test_dir,\n",
        "                      batch_size=16,\n",
        "                      target_size=(size,size),\n",
        "                      color_mode='rgb',\n",
        "                      class_mode='categorical',\n",
        "                      shuffle=False)"
      ],
      "metadata": {
        "trusted": true,
        "execution": {
          "iopub.status.busy": "2024-12-30T00:52:59.918819Z",
          "iopub.execute_input": "2024-12-30T00:52:59.919768Z",
          "iopub.status.idle": "2024-12-30T00:53:03.620071Z",
          "shell.execute_reply.started": "2024-12-30T00:52:59.919733Z",
          "shell.execute_reply": "2024-12-30T00:53:03.619431Z"
        },
        "id": "KaUrS9id7qBj"
      },
      "outputs": [],
      "execution_count": null
    },
    {
      "cell_type": "code",
      "source": [
        "classes=list(train_generator.class_indices.keys())\n",
        "plt.figure(figsize=(20,20))\n",
        "for X_batch, y_batch in test_generator:\n",
        "    for i in range(0,16):\n",
        "        plt.subplot(4,4,i+1)\n",
        "        plt.imshow(X_batch[i])\n",
        "        plt.title(classes[np.where(y_batch[i]==1)[0][0]])\n",
        "    plt.show()\n",
        "    break"
      ],
      "metadata": {
        "trusted": true,
        "execution": {
          "iopub.status.busy": "2024-12-27T08:39:48.340819Z",
          "iopub.execute_input": "2024-12-27T08:39:48.341605Z",
          "iopub.status.idle": "2024-12-27T08:39:51.690804Z",
          "shell.execute_reply.started": "2024-12-27T08:39:48.341571Z",
          "shell.execute_reply": "2024-12-27T08:39:51.689911Z"
        },
        "id": "c-xI7PnH7qBj"
      },
      "outputs": [],
      "execution_count": null
    },
    {
      "cell_type": "code",
      "source": [
        "def Evaluate_model(model, train_generator, valid_generator, test_generator):\n",
        "    model_evaluate_train = model.evaluate(train_generator)\n",
        "    print(\"Loss of Train       : \",model_evaluate_train[0])\n",
        "    print(\"Accuracy of Train   : \",model_evaluate_train[1])\n",
        "    print(\"Precision of Train  : \",model_evaluate_train[2])\n",
        "    print(\"Recall of Train     : \",model_evaluate_train[3])\n",
        "\n",
        "    model_evaluate_valid = model.evaluate(valid_generator)\n",
        "    print(\"Loss of Validation      : \",model_evaluate_valid[0])\n",
        "    print(\"Accuracy of Validation  : \",model_evaluate_valid[1])\n",
        "    print(\"Precision of Validation : \",model_evaluate_valid[2])\n",
        "    print(\"Recall of Validation    : \",model_evaluate_valid[3])\n",
        "\n",
        "    model_evaluate_test = model.evaluate(test_generator)\n",
        "    print(\"Loss of Test      : \",model_evaluate_test[0])\n",
        "    print(\"Accuracy of Test  : \",model_evaluate_test[1])\n",
        "    print(\"Precision of Test : \",model_evaluate_test[2])\n",
        "    print(\"Recall of Test    : \",model_evaluate_test[3])\n",
        "\n",
        "    return np.round(model_evaluate_train[0], 2), np.round(model_evaluate_valid[0], 2), np.round(model_evaluate_test[0], 2), \\\n",
        "           np.round(model_evaluate_train[1], 2), np.round(model_evaluate_valid[1], 2), np.round(model_evaluate_test[1], 2), \\\n",
        "           np.round(model_evaluate_train[2], 2), np.round(model_evaluate_valid[2], 2), np.round(model_evaluate_test[2], 2), \\\n",
        "           np.round(model_evaluate_train[3], 2), np.round(model_evaluate_valid[3], 2), np.round(model_evaluate_test[3], 2)"
      ],
      "metadata": {
        "trusted": true,
        "execution": {
          "iopub.status.busy": "2024-12-30T00:53:17.702887Z",
          "iopub.execute_input": "2024-12-30T00:53:17.703247Z",
          "iopub.status.idle": "2024-12-30T00:53:17.710712Z",
          "shell.execute_reply.started": "2024-12-30T00:53:17.703215Z",
          "shell.execute_reply": "2024-12-30T00:53:17.709793Z"
        },
        "id": "dS0ZywtH7qBj"
      },
      "outputs": [],
      "execution_count": null
    },
    {
      "cell_type": "code",
      "source": [
        "def draw_plots(model):\n",
        "    acc = history.history['accuracy']\n",
        "    val_acc = history.history['val_accuracy']\n",
        "\n",
        "    precision = history.history['precision']\n",
        "    val_precision = history.history['val_precision']\n",
        "\n",
        "    recall =history.history['recall']\n",
        "    val_recall =history.history['val_recall']\n",
        "\n",
        "    loss = history.history['loss']\n",
        "    val_loss = history.history['val_loss']\n",
        "\n",
        "    epochs = range(1, len(loss) + 1)\n",
        "\n",
        "    fig, ax = plt.subplots(2, 2, figsize=(17, 12))\n",
        "    step = 2\n",
        "        # Accuracy\n",
        "    ax[0][0].plot(epochs, acc, color='green', label='Training Accuracy')\n",
        "    ax[0][0].plot(epochs, val_acc, color='blue', label='Validation Accuracy')\n",
        "    ax[0][0].set_title('Training and Validation Accuracy')\n",
        "    ax[0][0].set_ylabel('Accuracy')\n",
        "    ax[0][0].set_xlabel('Epoch')\n",
        "    ax[0][0].legend()\n",
        "    ax[0][0].set_xticks(np.arange(0, len(epochs) + step, step))\n",
        "    ax[0][0].set_ylim(0, 1.02)\n",
        "\n",
        "    # Precision\n",
        "    ax[0][1].plot(epochs, precision, color='green', label='Training precision')\n",
        "    ax[0][1].plot(epochs, val_precision, color='red', label='Validation precision')\n",
        "    ax[0][1].set_title('Training and Validation precision')\n",
        "    ax[0][1].set_xlabel('Epoch')\n",
        "    ax[0][1].set_ylabel('precision')\n",
        "    ax[0][1].legend()\n",
        "    ax[0][1].set_xticks(np.arange(0, len(epochs) + step, step))\n",
        "    ax[0][1].set_ylim(0,1.02)\n",
        "\n",
        "    # Recall\n",
        "    ax[1][0].plot(epochs, recall, color='green', label='Training Recall')\n",
        "    ax[1][0].plot(epochs, val_recall, color='red', label='Validation Recall')\n",
        "    ax[1][0].set_title('Training and Validation Recall')\n",
        "    ax[1][0].set_xlabel('Epoch')\n",
        "    ax[1][0].set_ylabel('Recall')\n",
        "    ax[1][0].legend()\n",
        "    ax[1][0].set_xticks(np.arange(0, len(epochs) + step, step))\n",
        "    ax[1][0].set_ylim(0,1.02)\n",
        "\n",
        "    # Loss\n",
        "    ax[1][1].plot(epochs, loss, color='green', label='Training Loss')\n",
        "    ax[1][1].plot(epochs, val_loss, color='red', label='Validation Loss')\n",
        "    ax[1][1].set_title('Training and Validation Loss')\n",
        "    ax[1][1].set_xlabel('Epoch')\n",
        "    ax[1][1].set_ylabel('Loss')\n",
        "    ax[1][1].legend()\n",
        "    ax[1][1].set_xticks(np.arange(0, len(epochs) + step, step))\n",
        "\n",
        "    plt.show()"
      ],
      "metadata": {
        "trusted": true,
        "execution": {
          "iopub.status.busy": "2024-12-30T00:53:36.513048Z",
          "iopub.execute_input": "2024-12-30T00:53:36.51372Z",
          "iopub.status.idle": "2024-12-30T00:53:36.525404Z",
          "shell.execute_reply.started": "2024-12-30T00:53:36.513687Z",
          "shell.execute_reply": "2024-12-30T00:53:36.524462Z"
        },
        "id": "SpzaAihc7qBj"
      },
      "outputs": [],
      "execution_count": null
    },
    {
      "cell_type": "code",
      "source": [
        "def Pridect_images (model, pred_dir, class_names):\n",
        "    a=0\n",
        "    for img in os.listdir(pred_dir):\n",
        "        path = os.path.join(pred_dir, img)\n",
        "        H,W,C = 224,224,3\n",
        "        img = cv2.imread(path)\n",
        "        img = cv2.resize(img, (H, W))\n",
        "        img = cv2.cvtColor(img, cv2.COLOR_BGR2RGB)\n",
        "        img = np.array(img)\n",
        "        img = img.astype(\"float32\")\n",
        "        img = img / 255.0\n",
        "        plt.imshow(img)\n",
        "        img = np.expand_dims(img, axis=0)\n",
        "        prediction = np.argmax(model.predict(img),axis=-1)[0]\n",
        "        plt.title(f\"predict : {class_names[prediction]}\")\n",
        "        plt.show()\n",
        "        a+=1\n",
        "        if a==5:\n",
        "            break"
      ],
      "metadata": {
        "trusted": true,
        "execution": {
          "iopub.status.busy": "2024-12-28T00:50:18.426273Z",
          "iopub.execute_input": "2024-12-28T00:50:18.426604Z",
          "iopub.status.idle": "2024-12-28T00:50:18.440646Z",
          "shell.execute_reply.started": "2024-12-28T00:50:18.426569Z",
          "shell.execute_reply": "2024-12-28T00:50:18.439922Z"
        },
        "id": "8rlBHeGr7qBj"
      },
      "outputs": [],
      "execution_count": null
    },
    {
      "cell_type": "code",
      "source": [
        "strategy = tf.distribute.MirroredStrategy()"
      ],
      "metadata": {
        "trusted": true,
        "execution": {
          "iopub.status.busy": "2024-12-28T00:50:18.441519Z",
          "iopub.execute_input": "2024-12-28T00:50:18.44175Z",
          "iopub.status.idle": "2024-12-28T00:50:19.037753Z",
          "shell.execute_reply.started": "2024-12-28T00:50:18.441707Z",
          "shell.execute_reply": "2024-12-28T00:50:19.036781Z"
        },
        "id": "LADSk7ET7qBj"
      },
      "outputs": [],
      "execution_count": null
    },
    {
      "cell_type": "code",
      "source": [
        "with strategy.scope():\n",
        "    input_shape = (224, 224, 3)\n",
        "\n",
        "    inputs = tf.keras.Input(shape=input_shape)\n",
        "\n",
        "    base_model = tf.keras.applications.VGG19(include_top=False, weights='imagenet', input_tensor=inputs)\n",
        "\n",
        "    base_model.trainable = False\n",
        "\n",
        "    x = tf.keras.layers.Flatten()(base_model.output)\n",
        "    x = tf.keras.layers.Dense(512, activation='relu')(x)\n",
        "    x = tf.keras.layers.BatchNormalization()(x)\n",
        "    x = tf.keras.layers.Dropout(0.3)(x)\n",
        "    x = tf.keras.layers.Dense(256, activation='relu')(x)\n",
        "    x = tf.keras.layers.BatchNormalization()(x)\n",
        "    x = tf.keras.layers.Dropout(0.4)(x)\n",
        "    x = tf.keras.layers.Dense(128, activation='relu')(x)\n",
        "    x = tf.keras.layers.BatchNormalization()(x)\n",
        "    x = tf.keras.layers.Dropout(0.5)(x)\n",
        "    outputs = tf.keras.layers.Dense(38, activation='softmax')(x)\n",
        "\n",
        "    model_VGG = tf.keras.models.Model(inputs = inputs, outputs = outputs)\n",
        "\n",
        "    optimizer = tf.keras.optimizers.Adam(learning_rate=0.0001, beta_1=0.9, beta_2=0.999)\n",
        "\n",
        "    model_VGG.compile(optimizer= optimizer, loss=\"categorical_crossentropy\", metrics=[\"accuracy\",'precision','recall'])\n",
        "\n",
        "model_VGG.summary()"
      ],
      "metadata": {
        "trusted": true,
        "execution": {
          "iopub.status.busy": "2024-12-26T12:57:14.802794Z",
          "iopub.execute_input": "2024-12-26T12:57:14.803068Z",
          "iopub.status.idle": "2024-12-26T12:57:15.868766Z",
          "shell.execute_reply.started": "2024-12-26T12:57:14.803042Z",
          "shell.execute_reply": "2024-12-26T12:57:15.867912Z"
        },
        "id": "_E3YEAxG7qBj"
      },
      "outputs": [],
      "execution_count": null
    },
    {
      "cell_type": "code",
      "source": [
        "from tensorflow.keras.callbacks import EarlyStopping, ModelCheckpoint,ReduceLROnPlateau\n",
        "\n",
        "early_stopping = EarlyStopping(monitor='val_loss', patience=10, restore_best_weights=True)\n",
        "\n",
        "model_checkpoint = ModelCheckpoint('best_model.keras', monitor='val_loss', save_best_only=True)\n",
        "\n",
        "callbacks=[early_stopping,model_checkpoint]"
      ],
      "metadata": {
        "trusted": true,
        "execution": {
          "iopub.status.busy": "2024-12-27T08:40:14.253496Z",
          "iopub.execute_input": "2024-12-27T08:40:14.253821Z",
          "iopub.status.idle": "2024-12-27T08:40:14.261661Z",
          "shell.execute_reply.started": "2024-12-27T08:40:14.253794Z",
          "shell.execute_reply": "2024-12-27T08:40:14.260912Z"
        },
        "id": "UTuvEqul7qBj"
      },
      "outputs": [],
      "execution_count": null
    },
    {
      "cell_type": "code",
      "source": [
        "history = model_VGG.fit(train_generator,\n",
        "                    epochs = 20,\n",
        "                    batch_size=32,\n",
        "                    validation_data = valid_generator,\n",
        "                    callbacks = callbacks\n",
        "                    )\n"
      ],
      "metadata": {
        "trusted": true,
        "execution": {
          "iopub.status.busy": "2024-12-26T12:57:15.878448Z",
          "iopub.execute_input": "2024-12-26T12:57:15.878806Z",
          "iopub.status.idle": "2024-12-26T14:24:42.254971Z",
          "shell.execute_reply.started": "2024-12-26T12:57:15.87877Z",
          "shell.execute_reply": "2024-12-26T14:24:42.254176Z"
        },
        "id": "s50caPvh7qBk"
      },
      "outputs": [],
      "execution_count": null
    },
    {
      "cell_type": "code",
      "source": [
        "def load_latest_checkpoint(model, optimizer, scaler=None):\n",
        "    \"\"\"\n",
        "    Load the latest checkpoint from the model save location, if available.\n",
        "    \"\"\"\n",
        "    checkpoint_files = [f for f in os.listdir(model_save_loc) if f.startswith('checkpoint_epoch_') and f.endswith('.pth')]\n",
        "    if not checkpoint_files:\n",
        "        print(\"No checkpoints found. Starting training from scratch.\")\n",
        "        return 0, None\n",
        "\n",
        "    # Find the latest checkpoint file by epoch number\n",
        "    latest_file = max(checkpoint_files, key=lambda x: int(x.split('_')[-1].split('.')[0]))\n",
        "    checkpoint_path = os.path.join(model_save_loc, latest_file)\n",
        "\n",
        "    print(f\"Loading checkpoint from: {checkpoint_path}\")\n",
        "    checkpoint = torch.load(checkpoint_path) #weights_only=True not needed\n",
        "    model.load_state_dict(checkpoint['model_state_dict'])\n",
        "    optimizer.load_state_dict(checkpoint['optimizer_state_dict'])\n",
        "    if scaler and 'scaler' in checkpoint:\n",
        "        scaler.load_state_dict(checkpoint['scaler'])\n",
        "    start_epoch = checkpoint['epoch'] + 1  # Resume from the next epoch\n",
        "    return start_epoch, checkpoint['loss']"
      ],
      "metadata": {
        "trusted": true,
        "id": "z7hV6wjX7qBk"
      },
      "outputs": [],
      "execution_count": null
    },
    {
      "cell_type": "code",
      "source": [
        "checkpoint_path = os.path.join(model_save_loc, f'checkpoint_epoch_{epoch}.pth')\n",
        "        torch.save({\n",
        "            'epoch': epoch,\n",
        "            'model_state_dict': model.state_dict(),\n",
        "            'optimizer_state_dict': optimizer.state_dict(),\n",
        "            'scaler': scaler.state_dict(),  # Save the scaler state\n",
        "            'loss': epoch_loss / len(train_loader.load_dataset()),\n",
        "        }, checkpoint_path)\n",
        "        print(f\"Checkpoint saved at: {checkpoint_path}\")"
      ],
      "metadata": {
        "trusted": true,
        "id": "H2hTM25D7qBk"
      },
      "outputs": [],
      "execution_count": null
    },
    {
      "cell_type": "code",
      "source": [
        "Report_VGG = []\n",
        "Report_VGG.append(Evaluate_model(model_VGG, train_generator, valid_generator, test_generator))\n",
        "Report_VGG"
      ],
      "metadata": {
        "trusted": true,
        "execution": {
          "iopub.status.busy": "2024-12-26T14:24:53.083791Z",
          "iopub.execute_input": "2024-12-26T14:24:53.084147Z",
          "iopub.status.idle": "2024-12-26T14:30:28.797554Z",
          "shell.execute_reply.started": "2024-12-26T14:24:53.084119Z",
          "shell.execute_reply": "2024-12-26T14:30:28.796685Z"
        },
        "id": "Rq1zE0Q-7qBk"
      },
      "outputs": [],
      "execution_count": null
    },
    {
      "cell_type": "code",
      "source": [
        "draw_plots(model_VGG)"
      ],
      "metadata": {
        "trusted": true,
        "execution": {
          "iopub.status.busy": "2024-12-26T14:30:28.799014Z",
          "iopub.execute_input": "2024-12-26T14:30:28.799281Z",
          "iopub.status.idle": "2024-12-26T14:30:29.484964Z",
          "shell.execute_reply.started": "2024-12-26T14:30:28.799256Z",
          "shell.execute_reply": "2024-12-26T14:30:29.484083Z"
        },
        "id": "ZnOKtxE77qBk"
      },
      "outputs": [],
      "execution_count": null
    },
    {
      "cell_type": "code",
      "source": [
        "from sklearn.metrics import classification_report, confusion_matrix\n",
        "import seaborn as sns\n",
        "\n",
        "predictions = model_VGG.predict(test_generator)\n",
        "\n",
        "y_pred = predictions.argmax(axis=-1)\n",
        "\n",
        "class_names = list(test_generator.class_indices.keys())\n",
        "\n",
        "print(\"Classification report : \\n\",classification_report(test_generator.labels, y_pred, target_names = class_names))\n",
        "\n",
        "def draw_confusion_matrix(true, preds, normalize=None):\n",
        "    conf_matx = confusion_matrix(true, preds, normalize = normalize)\n",
        "    conf_matx = np.round(conf_matx, 2)\n",
        "\n",
        "    sns.heatmap(conf_matx, annot=True, annot_kws={\"size\": 12},fmt=\"g\", cbar=False, cmap=\"viridis\")\n",
        "    plt.show()\n",
        "\n",
        "print(\"Confusion matrix : \\n\")\n",
        "draw_confusion_matrix(test_generator.labels, y_pred)\n",
        "\n",
        "print(\"Normalized confusion matrix : \\n\")\n",
        "draw_confusion_matrix(test_generator.labels, y_pred, \"true\")"
      ],
      "metadata": {
        "trusted": true,
        "execution": {
          "iopub.status.busy": "2024-12-26T14:30:29.486167Z",
          "iopub.execute_input": "2024-12-26T14:30:29.486524Z",
          "iopub.status.idle": "2024-12-26T14:31:33.408734Z",
          "shell.execute_reply.started": "2024-12-26T14:30:29.486486Z",
          "shell.execute_reply": "2024-12-26T14:31:33.407861Z"
        },
        "id": "FQS_6KhU7qBk"
      },
      "outputs": [],
      "execution_count": null
    },
    {
      "cell_type": "code",
      "source": [
        "model_VGG.save('/kaggle/working/VGG_Plant_Diseases.h5')\n",
        "#!cp /kaggle/working/VGG_Plant_Diseases.h5 /kaggle/output/"
      ],
      "metadata": {
        "trusted": true,
        "execution": {
          "iopub.status.busy": "2024-12-26T15:38:02.596755Z",
          "iopub.execute_input": "2024-12-26T15:38:02.597104Z",
          "iopub.status.idle": "2024-12-26T15:38:03.31419Z",
          "shell.execute_reply.started": "2024-12-26T15:38:02.597076Z",
          "shell.execute_reply": "2024-12-26T15:38:03.313186Z"
        },
        "id": "NDpyyKza7qBk"
      },
      "outputs": [],
      "execution_count": null
    },
    {
      "cell_type": "code",
      "source": [
        "print(os.listdir('/kaggle/working'))\n",
        "\n",
        "\n"
      ],
      "metadata": {
        "trusted": true,
        "execution": {
          "iopub.status.busy": "2024-12-26T14:32:17.339764Z",
          "iopub.execute_input": "2024-12-26T14:32:17.340738Z",
          "iopub.status.idle": "2024-12-26T14:32:17.345757Z",
          "shell.execute_reply.started": "2024-12-26T14:32:17.340689Z",
          "shell.execute_reply": "2024-12-26T14:32:17.344788Z"
        },
        "id": "kDiNPMF47qBk"
      },
      "outputs": [],
      "execution_count": null
    },
    {
      "cell_type": "code",
      "source": [
        "model_VGG_load = tf.keras.models.load_model(\"/kaggle/input/vgg/tensorflow2/default/1/VGG_Plant_Diseases.h5\")"
      ],
      "metadata": {
        "trusted": true,
        "execution": {
          "iopub.status.busy": "2024-12-26T15:37:21.904442Z",
          "iopub.execute_input": "2024-12-26T15:37:21.905172Z",
          "iopub.status.idle": "2024-12-26T15:37:24.11742Z",
          "shell.execute_reply.started": "2024-12-26T15:37:21.905138Z",
          "shell.execute_reply": "2024-12-26T15:37:24.116541Z"
        },
        "id": "SlU8EENE7qBl"
      },
      "outputs": [],
      "execution_count": null
    },
    {
      "cell_type": "code",
      "source": [
        "import cv2\n",
        "pred_dir = '/kaggle/input/new-plant-diseases-dataset/test/test'\n",
        "class_names = list(test_generator.class_indices.keys())\n",
        "Pridect_images (model_VGG_load, pred_dir, class_names)"
      ],
      "metadata": {
        "trusted": true,
        "execution": {
          "iopub.status.busy": "2024-12-26T15:37:28.809551Z",
          "iopub.execute_input": "2024-12-26T15:37:28.810389Z",
          "iopub.status.idle": "2024-12-26T15:37:31.095445Z",
          "shell.execute_reply.started": "2024-12-26T15:37:28.810354Z",
          "shell.execute_reply": "2024-12-26T15:37:31.094632Z"
        },
        "id": "Gy55iZwG7qBl"
      },
      "outputs": [],
      "execution_count": null
    },
    {
      "cell_type": "code",
      "source": [
        "with strategy.scope():\n",
        "    input_shape = (224, 224, 3)\n",
        "\n",
        "    inputs = tf.keras.Input(shape=input_shape)\n",
        "\n",
        "    # Use ResNet50\n",
        "    base_model = tf.keras.applications.ResNet50(include_top=False, weights='imagenet', input_tensor=inputs)\n",
        "\n",
        "    base_model.trainable = False\n",
        "\n",
        "    # Adjusting the following layers to fit the output of ResNet50\n",
        "    x = tf.keras.layers.Flatten()(base_model.output)\n",
        "    x = tf.keras.layers.Dense(512, activation='relu')(x)\n",
        "    x = tf.keras.layers.BatchNormalization()(x)\n",
        "    x = tf.keras.layers.Dropout(0.3)(x)\n",
        "    x = tf.keras.layers.Dense(256, activation='relu')(x)\n",
        "    x = tf.keras.layers.BatchNormalization()(x)\n",
        "    x = tf.keras.layers.Dropout(0.4)(x)\n",
        "    x = tf.keras.layers.Dense(128, activation='relu')(x)\n",
        "    x = tf.keras.layers.BatchNormalization()(x)\n",
        "    x = tf.keras.layers.Dropout(0.5)(x)\n",
        "    outputs = tf.keras.layers.Dense(38, activation='softmax')(x)\n",
        "\n",
        "    model_ResNet = tf.keras.models.Model(inputs=inputs, outputs=outputs)\n",
        "\n",
        "    optimizer = tf.keras.optimizers.Adam(learning_rate=0.0001, beta_1=0.9, beta_2=0.999)\n",
        "\n",
        "    model_ResNet.compile(optimizer=optimizer, loss=\"categorical_crossentropy\", metrics=[\"accuracy\", \"precision\", \"recall\"])\n",
        "\n",
        "model_ResNet.summary()\n"
      ],
      "metadata": {
        "trusted": true,
        "execution": {
          "iopub.status.busy": "2024-12-27T08:40:31.42281Z",
          "iopub.execute_input": "2024-12-27T08:40:31.423594Z",
          "iopub.status.idle": "2024-12-27T08:40:33.803508Z",
          "shell.execute_reply.started": "2024-12-27T08:40:31.423552Z",
          "shell.execute_reply": "2024-12-27T08:40:33.802732Z"
        },
        "id": "oLC994yY7qBl"
      },
      "outputs": [],
      "execution_count": null
    },
    {
      "cell_type": "code",
      "source": [
        "history = model_ResNet.fit(train_generator,\n",
        "                    epochs = 20,\n",
        "                    batch_size=32,\n",
        "                    validation_data = valid_generator,\n",
        "                    callbacks = callbacks\n",
        "                    )"
      ],
      "metadata": {
        "trusted": true,
        "execution": {
          "iopub.status.busy": "2024-12-27T08:40:45.857266Z",
          "iopub.execute_input": "2024-12-27T08:40:45.857999Z",
          "iopub.status.idle": "2024-12-27T10:13:12.547229Z",
          "shell.execute_reply.started": "2024-12-27T08:40:45.857961Z",
          "shell.execute_reply": "2024-12-27T10:13:12.546493Z"
        },
        "id": "Du_3afmp7qBl"
      },
      "outputs": [],
      "execution_count": null
    },
    {
      "cell_type": "code",
      "source": [
        "Report_ResNet = []\n",
        "Report_ResNet.append(Evaluate_model(model_ResNet, train_generator, valid_generator, test_generator))\n",
        "Report_ResNet"
      ],
      "metadata": {
        "trusted": true,
        "execution": {
          "iopub.status.busy": "2024-12-27T10:13:17.443188Z",
          "iopub.execute_input": "2024-12-27T10:13:17.443932Z",
          "iopub.status.idle": "2024-12-27T10:18:28.391818Z",
          "shell.execute_reply.started": "2024-12-27T10:13:17.443892Z",
          "shell.execute_reply": "2024-12-27T10:18:28.39104Z"
        },
        "id": "MCut03gx7qBl"
      },
      "outputs": [],
      "execution_count": null
    },
    {
      "cell_type": "code",
      "source": [
        "draw_plots(model_ResNet)"
      ],
      "metadata": {
        "trusted": true,
        "execution": {
          "iopub.status.busy": "2024-12-27T10:18:28.393296Z",
          "iopub.execute_input": "2024-12-27T10:18:28.393569Z",
          "iopub.status.idle": "2024-12-27T10:18:29.117604Z",
          "shell.execute_reply.started": "2024-12-27T10:18:28.393542Z",
          "shell.execute_reply": "2024-12-27T10:18:29.116845Z"
        },
        "id": "LztdxU9w7qBl"
      },
      "outputs": [],
      "execution_count": null
    },
    {
      "cell_type": "code",
      "source": [
        "from sklearn.metrics import classification_report, confusion_matrix\n",
        "\n",
        "predictions = model_ResNet.predict(test_generator)\n",
        "\n",
        "y_pred = predictions.argmax(axis=-1)\n",
        "\n",
        "class_names = list(test_generator.class_indices.keys())\n",
        "\n",
        "print(\"Classification report : \\n\",classification_report(test_generator.labels, y_pred, target_names = class_names))\n",
        "\n",
        "def draw_confusion_matrix(true, preds, normalize=None):\n",
        "    conf_matx = confusion_matrix(true, preds, normalize = normalize)\n",
        "    conf_matx = np.round(conf_matx, 2)\n",
        "\n",
        "    sns.heatmap(conf_matx, annot=True, annot_kws={\"size\": 12},fmt=\"g\", cbar=False, cmap=\"viridis\")\n",
        "    plt.show()\n",
        "\n",
        "print(\"Confusion matrix : \\n\")\n",
        "draw_confusion_matrix(test_generator.labels, y_pred)\n",
        "\n",
        "print(\"Normalized confusion matrix : \\n\")\n",
        "draw_confusion_matrix(test_generator.labels, y_pred, \"true\")"
      ],
      "metadata": {
        "trusted": true,
        "execution": {
          "iopub.status.busy": "2024-12-27T10:18:39.048245Z",
          "iopub.execute_input": "2024-12-27T10:18:39.048599Z",
          "iopub.status.idle": "2024-12-27T10:19:34.015376Z",
          "shell.execute_reply.started": "2024-12-27T10:18:39.048565Z",
          "shell.execute_reply": "2024-12-27T10:19:34.014298Z"
        },
        "id": "ux-1NLcr7qBr"
      },
      "outputs": [],
      "execution_count": null
    },
    {
      "cell_type": "code",
      "source": [
        "model_ResNet.save('/kaggle/working/ResNet_Plant_Diseases.h5')"
      ],
      "metadata": {
        "trusted": true,
        "execution": {
          "iopub.status.busy": "2024-12-27T10:18:29.118804Z",
          "iopub.execute_input": "2024-12-27T10:18:29.119176Z",
          "iopub.status.idle": "2024-12-27T10:18:30.774454Z",
          "shell.execute_reply.started": "2024-12-27T10:18:29.119135Z",
          "shell.execute_reply": "2024-12-27T10:18:30.773692Z"
        },
        "id": "KfHDGcRS7qBr"
      },
      "outputs": [],
      "execution_count": null
    },
    {
      "cell_type": "code",
      "source": [
        "model_ResNet_load = tf.keras.models.load_model(\"/kaggle/working/ResNet_Plant_Diseases.h5\")"
      ],
      "metadata": {
        "trusted": true,
        "id": "Jgol8PS37qBr"
      },
      "outputs": [],
      "execution_count": null
    },
    {
      "cell_type": "code",
      "source": [
        "pred_dir = '/kaggle/input/new-plant-diseases-dataset/test/test'\n",
        "class_names = list(test_generator.class_indices.keys())\n",
        "Pridect_images (model_ResNet_load, pred_dir, class_names)"
      ],
      "metadata": {
        "trusted": true,
        "id": "w4Q1HY0N7qBr"
      },
      "outputs": [],
      "execution_count": null
    },
    {
      "cell_type": "code",
      "source": [
        "with strategy.scope():\n",
        "    input_shape = (224, 224, 3)\n",
        "    inputs = tf.keras.Input(shape=input_shape)\n",
        "\n",
        "    base_model = tf.keras.applications.DenseNet201(include_top=False, weights='imagenet', input_tensor=inputs)\n",
        "\n",
        "    base_model.trainable = False\n",
        "\n",
        "    x = tf.keras.layers.Flatten()(base_model.output)\n",
        "    x = tf.keras.layers.Dense(512, activation='relu')(x)\n",
        "    x = tf.keras.layers.BatchNormalization()(x)\n",
        "    x = tf.keras.layers.Dropout(0.4)(x)\n",
        "    x = tf.keras.layers.Dense(256, activation='relu')(x)\n",
        "    x = tf.keras.layers.BatchNormalization()(x)\n",
        "    x = tf.keras.layers.Dropout(0.3)(x)\n",
        "    x = tf.keras.layers.Dense(128, activation='relu')(x)\n",
        "    x = tf.keras.layers.BatchNormalization()(x)\n",
        "    x = tf.keras.layers.Dropout(0.2)(x)\n",
        "    outputs = tf.keras.layers.Dense(38, activation='softmax')(x)\n",
        "\n",
        "    model_DenseNet = tf.keras.models.Model(inputs = inputs, outputs = outputs)\n",
        "\n",
        "    optimizer = tf.keras.optimizers.Adam(learning_rate=0.001)\n",
        "\n",
        "    model_DenseNet.compile(optimizer= optimizer, loss=\"categorical_crossentropy\", metrics=[\"accuracy\",'precision','recall'])\n",
        "\n",
        "model_DenseNet.summary()"
      ],
      "metadata": {
        "trusted": true,
        "execution": {
          "iopub.status.busy": "2024-12-27T14:35:35.849285Z",
          "iopub.execute_input": "2024-12-27T14:35:35.850185Z",
          "iopub.status.idle": "2024-12-27T14:35:45.210692Z",
          "shell.execute_reply.started": "2024-12-27T14:35:35.850147Z",
          "shell.execute_reply": "2024-12-27T14:35:45.209837Z"
        },
        "id": "PEqZ_Vy97qBr"
      },
      "outputs": [],
      "execution_count": null
    },
    {
      "cell_type": "code",
      "source": [
        "from tensorflow.keras.callbacks import EarlyStopping, ModelCheckpoint,ReduceLROnPlateau\n",
        "\n",
        "early_stopping = EarlyStopping(monitor='val_loss', patience=10, restore_best_weights=True)\n",
        "\n",
        "model_ReduceLROnPlateau = ReduceLROnPlateau(monitor='val_loss', factor=0.1, patience=15, min_lr=0.000001)\n",
        "model_checkpoint = ModelCheckpoint('best_model.keras', monitor='val_loss', save_best_only=True)\n",
        "callbacks=[early_stopping,model_checkpoint,model_ReduceLROnPlateau]"
      ],
      "metadata": {
        "trusted": true,
        "execution": {
          "iopub.status.busy": "2024-12-27T14:39:22.61233Z",
          "iopub.execute_input": "2024-12-27T14:39:22.613057Z",
          "iopub.status.idle": "2024-12-27T14:39:22.618156Z",
          "shell.execute_reply.started": "2024-12-27T14:39:22.613025Z",
          "shell.execute_reply": "2024-12-27T14:39:22.617187Z"
        },
        "id": "P3pw58Wp7qBr"
      },
      "outputs": [],
      "execution_count": null
    },
    {
      "cell_type": "code",
      "source": [
        "history = model_DenseNet.fit(train_generator,\n",
        "                           epochs = 13,\n",
        "                           batch_size=32,\n",
        "                           validation_data = valid_generator,\n",
        "                           callbacks = callbacks\n",
        "                           )"
      ],
      "metadata": {
        "trusted": true,
        "execution": {
          "iopub.status.busy": "2024-12-27T14:39:30.094094Z",
          "iopub.execute_input": "2024-12-27T14:39:30.094451Z",
          "iopub.status.idle": "2024-12-27T16:30:26.500498Z",
          "shell.execute_reply.started": "2024-12-27T14:39:30.09442Z",
          "shell.execute_reply": "2024-12-27T16:30:26.499127Z"
        },
        "id": "4Uuyq6NC7qBr"
      },
      "outputs": [],
      "execution_count": null
    },
    {
      "cell_type": "code",
      "source": [
        "from sklearn.metrics import classification_report, confusion_matrix\n",
        "import seaborn as sns\n",
        "predictions = model_DenseNet.predict(test_generator)\n",
        "\n",
        "y_pred = predictions.argmax(axis=-1)\n",
        "\n",
        "class_names = list(test_generator.class_indices.keys())\n",
        "\n",
        "print(\"Classification report : \\n\",classification_report(test_generator.labels, y_pred, target_names = class_names))\n",
        "\n",
        "def draw_confusion_matrix(true, preds, normalize=None):\n",
        "    conf_matx = confusion_matrix(true, preds, normalize = normalize)\n",
        "    conf_matx = np.round(conf_matx, 2)\n",
        "\n",
        "    sns.heatmap(conf_matx, annot=True, annot_kws={\"size\": 12},fmt=\"g\", cbar=False, cmap=\"viridis\")\n",
        "    plt.show()\n",
        "\n",
        "print(\"Confusion matrix : \\n\")\n",
        "draw_confusion_matrix(test_generator.labels, y_pred)\n",
        "\n",
        "print(\"Normalized confusion matrix : \\n\")\n",
        "draw_confusion_matrix(test_generator.labels, y_pred, \"true\")"
      ],
      "metadata": {
        "trusted": true,
        "execution": {
          "iopub.status.busy": "2024-12-27T16:30:57.677707Z",
          "iopub.execute_input": "2024-12-27T16:30:57.678719Z",
          "iopub.status.idle": "2024-12-27T16:34:03.256399Z",
          "shell.execute_reply.started": "2024-12-27T16:30:57.678683Z",
          "shell.execute_reply": "2024-12-27T16:34:03.255545Z"
        },
        "id": "Clxj6pJp7qBr"
      },
      "outputs": [],
      "execution_count": null
    },
    {
      "cell_type": "code",
      "source": [
        "model_DenseNet.save('/kaggle/working/DenseNet_Plant_Diseases.h5')"
      ],
      "metadata": {
        "trusted": true,
        "execution": {
          "iopub.status.busy": "2024-12-27T16:30:36.606094Z",
          "iopub.execute_input": "2024-12-27T16:30:36.606797Z",
          "iopub.status.idle": "2024-12-27T16:30:38.805667Z",
          "shell.execute_reply.started": "2024-12-27T16:30:36.606761Z",
          "shell.execute_reply": "2024-12-27T16:30:38.804711Z"
        },
        "id": "XsZeDGGz7qBr"
      },
      "outputs": [],
      "execution_count": null
    },
    {
      "cell_type": "code",
      "source": [
        "Report_DenseNet = []\n",
        "Report_DenseNet.append(Evaluate_model(model_DenseNet, train_generator, valid_generator, test_generator))\n",
        "Report_DenseNet"
      ],
      "metadata": {
        "trusted": true,
        "execution": {
          "iopub.status.busy": "2024-12-27T16:34:21.380187Z",
          "iopub.execute_input": "2024-12-27T16:34:21.380866Z",
          "iopub.status.idle": "2024-12-27T16:42:05.655522Z",
          "shell.execute_reply.started": "2024-12-27T16:34:21.380831Z",
          "shell.execute_reply": "2024-12-27T16:42:05.654672Z"
        },
        "id": "5ON48ogs7qBs"
      },
      "outputs": [],
      "execution_count": null
    },
    {
      "cell_type": "code",
      "source": [
        "draw_plots(model_DenseNet_load)"
      ],
      "metadata": {
        "trusted": true,
        "execution": {
          "iopub.status.busy": "2024-12-27T16:45:24.673155Z",
          "iopub.execute_input": "2024-12-27T16:45:24.673817Z",
          "iopub.status.idle": "2024-12-27T16:45:24.723696Z",
          "shell.execute_reply.started": "2024-12-27T16:45:24.673783Z",
          "shell.execute_reply": "2024-12-27T16:45:24.722528Z"
        },
        "id": "aB3U45El7qBs"
      },
      "outputs": [],
      "execution_count": null
    },
    {
      "cell_type": "code",
      "source": [
        "model_DenseNet_load = tf.keras.models.load_model(\"/kaggle/working/DenseNet_Plant_Diseases.h5\")"
      ],
      "metadata": {
        "trusted": true,
        "execution": {
          "iopub.status.busy": "2024-12-27T16:45:09.481188Z",
          "iopub.execute_input": "2024-12-27T16:45:09.481962Z",
          "iopub.status.idle": "2024-12-27T16:45:13.520115Z",
          "shell.execute_reply.started": "2024-12-27T16:45:09.481927Z",
          "shell.execute_reply": "2024-12-27T16:45:13.519171Z"
        },
        "id": "CoPFcue_7qBs"
      },
      "outputs": [],
      "execution_count": null
    },
    {
      "cell_type": "code",
      "source": [],
      "metadata": {
        "trusted": true,
        "id": "Gz7euH017qBs"
      },
      "outputs": [],
      "execution_count": null
    },
    {
      "cell_type": "code",
      "source": [
        "#Build InceptionV3 model\n",
        "from tensorflow.keras.applications import InceptionV3\n",
        "img_height, img_width = 224, 224\n",
        "batch_size = 32\n",
        "\n",
        "base_model = InceptionV3(weights='imagenet', include_top=False, input_shape=(img_height, img_width, 3))\n",
        "\n",
        "for layer in base_model.layers:\n",
        "    layer.trainable = False"
      ],
      "metadata": {
        "trusted": true,
        "execution": {
          "iopub.status.busy": "2024-12-28T00:50:25.614331Z",
          "iopub.execute_input": "2024-12-28T00:50:25.615207Z",
          "iopub.status.idle": "2024-12-28T00:50:27.796692Z",
          "shell.execute_reply.started": "2024-12-28T00:50:25.61517Z",
          "shell.execute_reply": "2024-12-28T00:50:27.79601Z"
        },
        "id": "tZLOwZbx7qBs"
      },
      "outputs": [],
      "execution_count": null
    },
    {
      "cell_type": "code",
      "source": [
        "from tensorflow.keras.layers import GlobalAveragePooling2D\n",
        "from tensorflow.keras.layers import Dense, Dropout, Flatten, Conv2D, MaxPooling2D\n",
        "from tensorflow.keras.models import Model\n",
        "\n",
        "x = base_model.output\n",
        "x = GlobalAveragePooling2D()(x)  # Global average pooling layer\n",
        "x = Dense(512, activation='relu')(x)  # Fully connected layer\n",
        "predictions = Dense(len(classes), activation='softmax')(x)  # Final output layer\n",
        "model = Model(inputs=base_model.input, outputs=predictions)"
      ],
      "metadata": {
        "trusted": true,
        "execution": {
          "iopub.status.busy": "2024-12-28T00:52:11.448486Z",
          "iopub.execute_input": "2024-12-28T00:52:11.449292Z",
          "iopub.status.idle": "2024-12-28T00:52:11.497949Z",
          "shell.execute_reply.started": "2024-12-28T00:52:11.449259Z",
          "shell.execute_reply": "2024-12-28T00:52:11.497232Z"
        },
        "id": "7AGAwbOa7qBs"
      },
      "outputs": [],
      "execution_count": null
    },
    {
      "cell_type": "code",
      "source": [
        "model.summary()"
      ],
      "metadata": {
        "trusted": true,
        "execution": {
          "iopub.status.busy": "2024-12-28T01:34:41.857385Z",
          "iopub.execute_input": "2024-12-28T01:34:41.858163Z",
          "iopub.status.idle": "2024-12-28T01:34:42.143201Z",
          "shell.execute_reply.started": "2024-12-28T01:34:41.85813Z",
          "shell.execute_reply": "2024-12-28T01:34:42.142412Z"
        },
        "id": "p-prZmQo7qBs"
      },
      "outputs": [],
      "execution_count": null
    },
    {
      "cell_type": "code",
      "source": [
        "model.compile(\n",
        "    loss=\"categorical_crossentropy\",           # Use appropriate loss function for multi-class classification\n",
        "    optimizer=tf.keras.optimizers.Adam(learning_rate=0.001),  # Choose optimizer and learning rate\n",
        "    metrics=[\"accuracy\", \"precision\", \"recall\"]  # Metrics to monitor\n",
        ")"
      ],
      "metadata": {
        "trusted": true,
        "execution": {
          "iopub.status.busy": "2024-12-28T00:52:15.020466Z",
          "iopub.execute_input": "2024-12-28T00:52:15.021265Z",
          "iopub.status.idle": "2024-12-28T00:52:15.03504Z",
          "shell.execute_reply.started": "2024-12-28T00:52:15.021228Z",
          "shell.execute_reply": "2024-12-28T00:52:15.034276Z"
        },
        "id": "uk_FDXEK7qBs"
      },
      "outputs": [],
      "execution_count": null
    },
    {
      "cell_type": "code",
      "source": [
        "from tensorflow.keras.callbacks import EarlyStopping, ReduceLROnPlateau, ModelCheckpoint\n",
        "\n",
        "early_stopping=EarlyStopping(monitor='val_loss',patience=8,verbose=1, restore_best_weights=True)\n",
        "checkpoints=ModelCheckpoint('resnet50.keras', monitor='val_loss', save_best_only=True,verbose=1)\n",
        "reduceonplateau=ReduceLROnPlateau(monitor='val_loss', factor=0.1, patience=5, min_lr=0.001)\n",
        "callback=[early_stopping,reduceonplateau,checkpoints]"
      ],
      "metadata": {
        "trusted": true,
        "execution": {
          "iopub.status.busy": "2024-12-28T01:34:56.24328Z",
          "iopub.execute_input": "2024-12-28T01:34:56.243619Z",
          "iopub.status.idle": "2024-12-28T01:34:56.248986Z",
          "shell.execute_reply.started": "2024-12-28T01:34:56.243587Z",
          "shell.execute_reply": "2024-12-28T01:34:56.248168Z"
        },
        "id": "YZjVt2Fp7qBs"
      },
      "outputs": [],
      "execution_count": null
    },
    {
      "cell_type": "code",
      "source": [
        "history =model.fit(train_generator,\n",
        "                   epochs=15,\n",
        "                   validation_data=valid_generator,\n",
        "                   callbacks=callback,\n",
        "                   batch_size=128)"
      ],
      "metadata": {
        "trusted": true,
        "execution": {
          "iopub.status.busy": "2024-12-28T01:34:57.904178Z",
          "iopub.execute_input": "2024-12-28T01:34:57.904506Z",
          "iopub.status.idle": "2024-12-28T02:01:21.273002Z",
          "shell.execute_reply.started": "2024-12-28T01:34:57.904475Z",
          "shell.execute_reply": "2024-12-28T02:01:21.272185Z"
        },
        "id": "zX7xlnfd7qBs"
      },
      "outputs": [],
      "execution_count": null
    },
    {
      "cell_type": "code",
      "source": [
        "model.save('/kaggle/working/InceptionV3_Plant_Diseases.h5')"
      ],
      "metadata": {
        "trusted": true,
        "execution": {
          "iopub.status.busy": "2024-12-28T02:02:14.671181Z",
          "iopub.execute_input": "2024-12-28T02:02:14.671517Z",
          "iopub.status.idle": "2024-12-28T02:02:15.138485Z",
          "shell.execute_reply.started": "2024-12-28T02:02:14.671485Z",
          "shell.execute_reply": "2024-12-28T02:02:15.137782Z"
        },
        "id": "ClNijVON7qBt"
      },
      "outputs": [],
      "execution_count": null
    },
    {
      "cell_type": "code",
      "source": [
        "Report_InceptionV3 = []\n",
        "Report_InceptionV3.append(Evaluate_model(model, train_generator, valid_generator, test_generator))\n",
        "Report_InceptionV3"
      ],
      "metadata": {
        "trusted": true,
        "execution": {
          "iopub.status.busy": "2024-12-28T02:02:29.047834Z",
          "iopub.execute_input": "2024-12-28T02:02:29.048171Z",
          "iopub.status.idle": "2024-12-28T02:07:11.205639Z",
          "shell.execute_reply.started": "2024-12-28T02:02:29.048142Z",
          "shell.execute_reply": "2024-12-28T02:07:11.204779Z"
        },
        "id": "15-x3xQq7qBt"
      },
      "outputs": [],
      "execution_count": null
    },
    {
      "cell_type": "code",
      "source": [
        "draw_plots(model)"
      ],
      "metadata": {
        "trusted": true,
        "execution": {
          "iopub.status.busy": "2024-12-28T02:07:11.207555Z",
          "iopub.execute_input": "2024-12-28T02:07:11.208419Z",
          "iopub.status.idle": "2024-12-28T02:07:11.885983Z",
          "shell.execute_reply.started": "2024-12-28T02:07:11.208379Z",
          "shell.execute_reply": "2024-12-28T02:07:11.885061Z"
        },
        "id": "ZL_EC7dJ7qBt"
      },
      "outputs": [],
      "execution_count": null
    },
    {
      "cell_type": "code",
      "source": [
        "from sklearn.metrics import classification_report, confusion_matrix\n",
        "import seaborn as sns\n",
        "predictions = model.predict(test_generator)\n",
        "\n",
        "y_pred = predictions.argmax(axis=-1)\n",
        "\n",
        "class_names = list(test_generator.class_indices.keys())\n",
        "\n",
        "print(\"Classification report : \\n\",classification_report(test_generator.labels, y_pred, target_names = class_names))\n",
        "\n",
        "def draw_confusion_matrix(true, preds, normalize=None):\n",
        "    conf_matx = confusion_matrix(true, preds, normalize = normalize)\n",
        "    conf_matx = np.round(conf_matx, 2)\n",
        "\n",
        "    sns.heatmap(conf_matx, annot=True, annot_kws={\"size\": 12},fmt=\"g\", cbar=False, cmap=\"viridis\")\n",
        "    plt.show()\n",
        "\n",
        "print(\"Confusion matrix : \\n\")\n",
        "draw_confusion_matrix(test_generator.labels, y_pred)\n",
        "\n",
        "print(\"Normalized confusion matrix : \\n\")\n",
        "draw_confusion_matrix(test_generator.labels, y_pred, \"true\")"
      ],
      "metadata": {
        "trusted": true,
        "execution": {
          "iopub.status.busy": "2024-12-28T02:07:11.887092Z",
          "iopub.execute_input": "2024-12-28T02:07:11.887376Z",
          "iopub.status.idle": "2024-12-28T02:07:58.685908Z",
          "shell.execute_reply.started": "2024-12-28T02:07:11.88735Z",
          "shell.execute_reply": "2024-12-28T02:07:58.685008Z"
        },
        "id": "qV_eCNuR7qBt"
      },
      "outputs": [],
      "execution_count": null
    },
    {
      "cell_type": "code",
      "source": [
        "with strategy.scope():\n",
        "    input_shape = (224, 224, 3)\n",
        "    inputs = tf.keras.Input(shape=input_shape)\n",
        "\n",
        "    base_model = tf.keras.applications.InceptionV3(include_top=False, weights='imagenet', input_tensor=inputs)\n",
        "\n",
        "    base_model.trainable = False\n",
        "\n",
        "    x = tf.keras.layers.Flatten()(base_model.output)\n",
        "    x = tf.keras.layers.Dense(512, activation='relu')(x)\n",
        "    x = tf.keras.layers.BatchNormalization()(x)\n",
        "    x = tf.keras.layers.Dropout(0.4)(x)\n",
        "    x = tf.keras.layers.Dense(256, activation='relu')(x)\n",
        "    x = tf.keras.layers.BatchNormalization()(x)\n",
        "    x = tf.keras.layers.Dropout(0.3)(x)\n",
        "    x = tf.keras.layers.Dense(128, activation='relu')(x)\n",
        "    x = tf.keras.layers.BatchNormalization()(x)\n",
        "    x = tf.keras.layers.Dropout(0.2)(x)\n",
        "    outputs = tf.keras.layers.Dense(38, activation='softmax')(x)\n",
        "\n",
        "    model_InceptionV3 = tf.keras.models.Model(inputs = inputs, outputs = outputs)\n",
        "\n",
        "    optimizer = tf.keras.optimizers.Adam(learning_rate=0.001)\n",
        "\n",
        "    model_InceptionV3.compile(optimizer= optimizer, loss=\"categorical_crossentropy\", metrics=[\"accuracy\",'precision','recall'])\n",
        "\n",
        "model_InceptionV3.summary()"
      ],
      "metadata": {
        "trusted": true,
        "execution": {
          "iopub.status.busy": "2024-12-28T02:42:58.17418Z",
          "iopub.execute_input": "2024-12-28T02:42:58.174863Z",
          "iopub.status.idle": "2024-12-28T02:43:00.265455Z",
          "shell.execute_reply.started": "2024-12-28T02:42:58.174829Z",
          "shell.execute_reply": "2024-12-28T02:43:00.264651Z"
        },
        "id": "19JVINCt7qBt"
      },
      "outputs": [],
      "execution_count": null
    },
    {
      "cell_type": "code",
      "source": [
        "from tensorflow.keras.callbacks import EarlyStopping, ModelCheckpoint,ReduceLROnPlateau\n",
        "\n",
        "early_stopping = EarlyStopping(monitor='val_loss', patience=10, restore_best_weights=True)\n",
        "\n",
        "model_ReduceLROnPlateau = ReduceLROnPlateau(monitor='val_loss', factor=0.1, patience=15, min_lr=0.000001)\n",
        "model_checkpoint = ModelCheckpoint('best_model.keras', monitor='val_loss', save_best_only=True)\n",
        "callbacks=[early_stopping,model_checkpoint,model_ReduceLROnPlateau]"
      ],
      "metadata": {
        "trusted": true,
        "execution": {
          "iopub.status.busy": "2024-12-28T02:41:46.89065Z",
          "iopub.execute_input": "2024-12-28T02:41:46.891494Z",
          "iopub.status.idle": "2024-12-28T02:41:46.896399Z",
          "shell.execute_reply.started": "2024-12-28T02:41:46.89146Z",
          "shell.execute_reply": "2024-12-28T02:41:46.895491Z"
        },
        "id": "GerSxzqc7qBt"
      },
      "outputs": [],
      "execution_count": null
    },
    {
      "cell_type": "code",
      "source": [
        "history = model_InceptionV3.fit(train_generator,\n",
        "                           epochs = 15,\n",
        "                           batch_size=32,\n",
        "                           validation_data = valid_generator,\n",
        "                           callbacks = callbacks\n",
        "                           )"
      ],
      "metadata": {
        "trusted": true,
        "execution": {
          "iopub.status.busy": "2024-12-28T02:43:54.845679Z",
          "iopub.execute_input": "2024-12-28T02:43:54.846099Z",
          "iopub.status.idle": "2024-12-28T03:35:23.12694Z",
          "shell.execute_reply.started": "2024-12-28T02:43:54.846066Z",
          "shell.execute_reply": "2024-12-28T03:35:23.125944Z"
        },
        "id": "FrVsTLCR7qBt"
      },
      "outputs": [],
      "execution_count": null
    },
    {
      "cell_type": "code",
      "source": [
        "model_InceptionV3.save('/kaggle/working/InceptionV3_Plant_Diseases_updated.h5')"
      ],
      "metadata": {
        "trusted": true,
        "execution": {
          "iopub.status.busy": "2024-12-28T03:39:59.727679Z",
          "iopub.execute_input": "2024-12-28T03:39:59.728048Z",
          "iopub.status.idle": "2024-12-28T03:40:00.877977Z",
          "shell.execute_reply.started": "2024-12-28T03:39:59.728018Z",
          "shell.execute_reply": "2024-12-28T03:40:00.877001Z"
        },
        "id": "Znumb61J7qBt"
      },
      "outputs": [],
      "execution_count": null
    },
    {
      "cell_type": "code",
      "source": [
        "Report_of_InceptionV3 = []\n",
        "Report_of_InceptionV3.append(Evaluate_model(model_InceptionV3, train_generator, valid_generator, test_generator))\n",
        "Report_of_InceptionV3"
      ],
      "metadata": {
        "trusted": true,
        "execution": {
          "iopub.status.busy": "2024-12-28T03:35:31.516506Z",
          "iopub.execute_input": "2024-12-28T03:35:31.517181Z",
          "iopub.status.idle": "2024-12-28T03:39:12.176058Z",
          "shell.execute_reply.started": "2024-12-28T03:35:31.517147Z",
          "shell.execute_reply": "2024-12-28T03:39:12.175159Z"
        },
        "id": "2ZYc23ci7qBu"
      },
      "outputs": [],
      "execution_count": null
    },
    {
      "cell_type": "code",
      "source": [
        "draw_plots(model_InceptionV3)"
      ],
      "metadata": {
        "trusted": true,
        "execution": {
          "iopub.status.busy": "2024-12-28T03:39:44.851419Z",
          "iopub.execute_input": "2024-12-28T03:39:44.85217Z",
          "iopub.status.idle": "2024-12-28T03:39:45.509214Z",
          "shell.execute_reply.started": "2024-12-28T03:39:44.852138Z",
          "shell.execute_reply": "2024-12-28T03:39:45.508369Z"
        },
        "id": "uWnqaDzT7qBu"
      },
      "outputs": [],
      "execution_count": null
    },
    {
      "cell_type": "code",
      "source": [
        "from sklearn.metrics import classification_report, confusion_matrix\n",
        "import seaborn as sns\n",
        "predictions = model_InceptionV3.predict(test_generator)\n",
        "\n",
        "y_pred = predictions.argmax(axis=-1)\n",
        "\n",
        "class_names = list(test_generator.class_indices.keys())\n",
        "\n",
        "print(\"Classification report : \\n\",classification_report(test_generator.labels, y_pred, target_names = class_names))\n",
        "\n",
        "def draw_confusion_matrix(true, preds, normalize=None):\n",
        "    conf_matx = confusion_matrix(true, preds, normalize = normalize)\n",
        "    conf_matx = np.round(conf_matx, 2)\n",
        "\n",
        "    sns.heatmap(conf_matx, annot=True, annot_kws={\"size\": 12},fmt=\"g\", cbar=False, cmap=\"viridis\")\n",
        "    plt.show()\n",
        "\n",
        "print(\"Confusion matrix : \\n\")\n",
        "draw_confusion_matrix(test_generator.labels, y_pred)\n",
        "\n",
        "print(\"Normalized confusion matrix : \\n\")\n",
        "draw_confusion_matrix(test_generator.labels, y_pred, \"true\")"
      ],
      "metadata": {
        "trusted": true,
        "execution": {
          "iopub.status.busy": "2024-12-28T03:40:23.661931Z",
          "iopub.execute_input": "2024-12-28T03:40:23.662835Z",
          "iopub.status.idle": "2024-12-28T03:41:14.813569Z",
          "shell.execute_reply.started": "2024-12-28T03:40:23.662802Z",
          "shell.execute_reply": "2024-12-28T03:41:14.812757Z"
        },
        "id": "a_yjl9Pd7qBu"
      },
      "outputs": [],
      "execution_count": null
    },
    {
      "cell_type": "code",
      "source": [],
      "metadata": {
        "trusted": true,
        "id": "hCXKDUJk7qBu"
      },
      "outputs": [],
      "execution_count": null
    },
    {
      "cell_type": "code",
      "source": [
        "'''import numpy as np\n",
        "from sklearn.linear_model import LogisticRegression\n",
        "from sklearn.metrics import accuracy_score, precision_score, recall_score\n",
        "from tensorflow.keras.models import load_model\n",
        "\n",
        "# Step 1: Load the trained models\n",
        "model_inception = load_model(\"/kaggle/input/inceptionv3_updated/tensorflow2/default/1/InceptionV3_Plant_Diseases_updated.h5\")\n",
        "model_densenet = load_model(\"/kaggle/input/inceptionv3/tensorflow2/default/1/DenseNet_Plant_Diseases.h5\")\n",
        "model_vgg = load_model(\"/kaggle/input/vgg/tensorflow2/default/1/VGG_Plant_Diseases.h5\")\n",
        "\n",
        "# Step 2: Extract predictions from each model as features\n",
        "def get_predictions(model, generator):\n",
        "    # Predict probabilities for all images in the generator\n",
        "    return model.predict(generator)\n",
        "\n",
        "# Train predictions\n",
        "train_preds_inception = get_predictions(model_inception, train_generator)\n",
        "train_preds_densenet = get_predictions(model_densenet, train_generator)\n",
        "train_preds_vgg = get_predictions(model_vgg, train_generator)\n",
        "\n",
        "# Validation predictions\n",
        "val_preds_inception = get_predictions(model_inception, valid_generator)\n",
        "val_preds_densenet = get_predictions(model_densenet, valid_generator)\n",
        "val_preds_vgg = get_predictions(model_vgg, valid_generator)\n",
        "\n",
        "# Test predictions\n",
        "test_preds_inception = get_predictions(model_inception, test_generator)\n",
        "test_preds_densenet = get_predictions(model_densenet, test_generator)\n",
        "test_preds_vgg = get_predictions(model_vgg, test_generator)\n",
        "\n",
        "# Step 3: Combine predictions as features for stacking\n",
        "def combine_features(pred1, pred2, pred3):\n",
        "    return np.hstack([pred1, pred2, pred3])\n",
        "\n",
        "# Combine for training\n",
        "train_features = combine_features(train_preds_inception, train_preds_densenet, train_preds_vgg)\n",
        "val_features = combine_features(val_preds_inception, val_preds_densenet, val_preds_vgg)\n",
        "test_features = combine_features(test_preds_inception, test_preds_densenet, test_preds_vgg)\n",
        "\n",
        "# Step 4: Extract true labels from the generator\n",
        "# Assuming the file names are used to create class indices\n",
        "train_labels = train_generator.classes\n",
        "val_labels = valid_generator.classes\n",
        "test_labels = test_generator.classes\n",
        "\n",
        "# Step 5: Train Logistic Regression as meta-classifier\n",
        "meta_classifier = LogisticRegression(max_iter=500)  # Increase max_iter if needed\n",
        "meta_classifier.fit(train_features, train_labels)\n",
        "\n",
        "# Step 6: Evaluate on Validation and Test Sets\n",
        "val_predictions = meta_classifier.predict(val_features)\n",
        "test_predictions = meta_classifier.predict(test_features)\n",
        "\n",
        "# Validation metrics\n",
        "val_accuracy = accuracy_score(val_labels, val_predictions)\n",
        "val_precision = precision_score(val_labels, val_predictions, average=\"weighted\")\n",
        "val_recall = recall_score(val_labels, val_predictions, average=\"weighted\")\n",
        "\n",
        "print(f\"Validation Accuracy: {val_accuracy}\")\n",
        "print(f\"Validation Precision: {val_precision}\")\n",
        "print(f\"Validation Recall: {val_recall}\")\n",
        "\n",
        "# Test metrics\n",
        "test_accuracy = accuracy_score(test_labels, test_predictions)\n",
        "test_precision = precision_score(test_labels, test_predictions, average=\"weighted\")\n",
        "test_recall = recall_score(test_labels, test_predictions, average=\"weighted\")\n",
        "\n",
        "print(f\"Test Accuracy: {test_accuracy}\")\n",
        "print(f\"Test Precision: {test_precision}\")\n",
        "print(f\"Test Recall: {test_recall}\")\n",
        "'''"
      ],
      "metadata": {
        "trusted": true,
        "execution": {
          "iopub.status.busy": "2024-12-30T00:53:43.587181Z",
          "iopub.execute_input": "2024-12-30T00:53:43.587798Z",
          "iopub.status.idle": "2024-12-30T01:11:14.749719Z",
          "shell.execute_reply.started": "2024-12-30T00:53:43.587767Z",
          "shell.execute_reply": "2024-12-30T01:11:14.747986Z"
        },
        "id": "vCMZgFFV7qBu"
      },
      "outputs": [],
      "execution_count": null
    },
    {
      "cell_type": "code",
      "source": [
        "'''from sklearn.ensemble import RandomForestClassifier\n",
        "\n",
        "# Update stacking model\n",
        "meta_model = RandomForestClassifier(n_estimators=100, random_state=42)\n",
        "meta_model.fit(train_features, train_labels)'''\n"
      ],
      "metadata": {
        "trusted": true,
        "execution": {
          "iopub.status.busy": "2024-12-30T01:37:52.735755Z",
          "iopub.execute_input": "2024-12-30T01:37:52.736588Z",
          "iopub.status.idle": "2024-12-30T01:42:25.343954Z",
          "shell.execute_reply.started": "2024-12-30T01:37:52.736553Z",
          "shell.execute_reply": "2024-12-30T01:42:25.343126Z"
        },
        "id": "QhUdIg667qBu"
      },
      "outputs": [],
      "execution_count": null
    },
    {
      "cell_type": "code",
      "source": [
        "'''# Step 6: Evaluate on Validation and Test Sets\n",
        "val_predictions = meta_model.predict(val_features)\n",
        "test_predictions = meta_model.predict(test_features)\n",
        "\n",
        "# Validation metrics\n",
        "val_accuracy = accuracy_score(val_labels, val_predictions)\n",
        "val_precision = precision_score(val_labels, val_predictions, average=\"weighted\")\n",
        "val_recall = recall_score(val_labels, val_predictions, average=\"weighted\")\n",
        "\n",
        "print(f\"Validation Accuracy: {val_accuracy}\")\n",
        "print(f\"Validation Precision: {val_precision}\")\n",
        "print(f\"Validation Recall: {val_recall}\")\n",
        "\n",
        "# Test metrics\n",
        "test_accuracy = accuracy_score(test_labels, test_predictions)\n",
        "test_precision = precision_score(test_labels, test_predictions, average=\"weighted\")\n",
        "test_recall = recall_score(test_labels, test_predictions, average=\"weighted\")\n",
        "\n",
        "print(f\"Test Accuracy: {test_accuracy}\")\n",
        "print(f\"Test Precision: {test_precision}\")\n",
        "print(f\"Test Recall: {test_recall}\")'''"
      ],
      "metadata": {
        "trusted": true,
        "execution": {
          "iopub.status.busy": "2024-12-30T01:43:28.171988Z",
          "iopub.execute_input": "2024-12-30T01:43:28.1727Z",
          "iopub.status.idle": "2024-12-30T01:43:29.346811Z",
          "shell.execute_reply.started": "2024-12-30T01:43:28.172663Z",
          "shell.execute_reply": "2024-12-30T01:43:29.345931Z"
        },
        "id": "3sOPMmG37qBu"
      },
      "outputs": [],
      "execution_count": null
    },
    {
      "cell_type": "code",
      "source": [
        "# Get predictions from all three models\n",
        "y_pred1 = model_inception.predict(test_generator)  # Shape: (num_samples, num_classes)\n",
        "y_pred2 = model_vgg.predict(test_generator)  # Shape: (num_samples, num_classes)\n",
        "y_pred3 = model_densenet.predict(test_generator)  # Shape: (num_samples, num_classes)\n",
        "\n",
        "# Average the probabilities\n",
        "final_probabilities = (y_pred1 + y_pred2 + y_pred3) / 3\n",
        "\n",
        "# Get final predictions (class with the highest probability)\n",
        "final_predictions = final_probabilities.argmax(axis=1)\n",
        "\n",
        "# Map predictions to class labels\n",
        "class_labels = list(test_generator.class_indices.keys())\n",
        "final_classes = [class_labels[pred] for pred in final_predictions]\n",
        "\n",
        "# Save predictions to evaluate accuracy or other metrics\n",
        "from sklearn.metrics import accuracy_score, classification_report\n",
        "\n",
        "# True labels\n",
        "true_labels = test_generator.classes\n",
        "\n",
        "# Accuracy and classification report\n",
        "print(\"Accuracy:\", accuracy_score(true_labels, final_predictions))\n",
        "print(\"Classification Report:\\n\", classification_report(true_labels, final_predictions))\n"
      ],
      "metadata": {
        "trusted": true,
        "execution": {
          "iopub.status.busy": "2024-12-30T01:45:25.488266Z",
          "iopub.execute_input": "2024-12-30T01:45:25.488894Z",
          "iopub.status.idle": "2024-12-30T01:47:43.224404Z",
          "shell.execute_reply.started": "2024-12-30T01:45:25.488859Z",
          "shell.execute_reply": "2024-12-30T01:47:43.223569Z"
        },
        "id": "8Zs5DrUc7qBu"
      },
      "outputs": [],
      "execution_count": null
    },
    {
      "cell_type": "code",
      "source": [
        "with open('ensemble_logic.py', 'w') as f:\n",
        "    model1 = load_model(\"/kaggle/input/inceptionv3_updated/tensorflow2/default/1/InceptionV3_Plant_Diseases_updated.h5\")\n",
        "    model2 = load_model(\"/kaggle/input/inceptionv3/tensorflow2/default/1/DenseNet_Plant_Diseases.h5\")\n",
        "    model3 = load_model(\"/kaggle/input/vgg/tensorflow2/default/1/VGG_Plant_Diseases.h5\")\n",
        "    def ensemble_predict(image):\n",
        "        class_mapping ={\n",
        "        0: 'Apple___Apple_scab',\n",
        "        1: 'Apple___Black_rot',\n",
        "        2: 'Apple___Cedar_apple_rust',\n",
        "        3: 'Apple___healthy', 4: 'Blueberry___healthy',\n",
        "        5: 'Cherry_(including_sour)___Powdery_mildew', 6: 'Cherry_(including_sour)___healthy',\n",
        "        7: 'Corn_(maize)___Cercospora_leaf_spot Gray_leaf_spot', 8: 'Corn_(maize)___Common_rust_',\n",
        "        9: 'Corn_(maize)___Northern_Leaf_Blight', 10: 'Corn_(maize)___healthy',\n",
        "        11: 'Grape___Black_rot', 12: 'Grape___Esca_(Black_Measles)',\n",
        "        13: 'Grape___Leaf_blight_(Isariopsis_Leaf_Spot)', 14: 'Grape___healthy',\n",
        "        15: 'Orange___Haunglongbing_(Citrus_greening)', 16: 'Peach___Bacterial_spot',\n",
        "        17: 'Peach___healthy', 18: 'Pepper,_bell___Bacterial_spot', 19: 'Pepper,_bell___healthy',\n",
        "        20: 'Potato___Early_blight', 21: 'Potato___Late_blight', 22: 'Potato___healthy',\n",
        "        23: 'Raspberry___healthy', 24: 'Soybean___healthy', 25: 'Squash___Powdery_mildew',\n",
        "        26: 'Strawberry___Leaf_scorch', 27: 'Strawberry___healthy', 28: 'Tomato___Bacterial_spot',\n",
        "        29: 'Tomato___Early_blight', 30: 'Tomato___Late_blight', 31: 'Tomato___Leaf_Mold',\n",
        "        32: 'Tomato___Septoria_leaf_spot', 33: 'Tomato___Spider_mites Two-spotted_spider_mite',\n",
        "        34: 'Tomato___Target_Spot', 35: 'Tomato___Tomato_Yellow_Leaf_Curl_Virus',\n",
        "        36: 'Tomato___Tomato_mosaic_virus',\n",
        "        37: 'Tomato___healthy'\n",
        "        }\n",
        "        # Get predictions from each model\n",
        "        pred1 = model1.predict(image)\n",
        "        pred2 = model2.predict(image)\n",
        "        pred3 = model3.predict(image)\n",
        "\n",
        "        # Average the predictions\n",
        "        final_probabilities = (pred1 + pred2 + pred3) / 3\n",
        "\n",
        "        # Get the predicted class\n",
        "        final_prediction = np.argmax(final_probabilities, axis=1)\n",
        "        # Extract the scalar value from the ndarray (which will have a single element)\n",
        "        predicted_class_index = final_prediction[0]  # Get the scalar value (first element)\n",
        "        predicted_class_name = class_mapping.get(predicted_class_index, \"Unknown Class\")\n",
        "        return predicted_class_name"
      ],
      "metadata": {
        "trusted": true,
        "execution": {
          "iopub.status.busy": "2024-12-30T02:19:13.432271Z",
          "iopub.execute_input": "2024-12-30T02:19:13.433258Z",
          "iopub.status.idle": "2024-12-30T02:19:23.512502Z",
          "shell.execute_reply.started": "2024-12-30T02:19:13.433211Z",
          "shell.execute_reply": "2024-12-30T02:19:23.511827Z"
        },
        "id": "fuMbMw9Z7qBu"
      },
      "outputs": [],
      "execution_count": null
    },
    {
      "cell_type": "code",
      "source": [
        "class_mapping = {v: k for k, v in train_generator.class_indices.items()}\n",
        "\n",
        "print(class_mapping)"
      ],
      "metadata": {
        "trusted": true,
        "execution": {
          "iopub.status.busy": "2024-12-30T02:12:45.794282Z",
          "iopub.execute_input": "2024-12-30T02:12:45.795383Z",
          "iopub.status.idle": "2024-12-30T02:12:45.80065Z",
          "shell.execute_reply.started": "2024-12-30T02:12:45.79535Z",
          "shell.execute_reply": "2024-12-30T02:12:45.799381Z"
        },
        "id": "u93ltK0g7qBu"
      },
      "outputs": [],
      "execution_count": null
    },
    {
      "cell_type": "code",
      "source": [
        "import os\n",
        "import random\n",
        "from tensorflow.keras.utils import load_img, img_to_array\n",
        "import numpy as np\n",
        "\n",
        "# Define the test directory path\n",
        "test_dir = '/kaggle/input/new-plant-diseases-dataset/test/'\n",
        "\n",
        "# Get a random class folder\n",
        "class_folders = [os.path.join(test_dir, folder) for folder in os.listdir(test_dir)]\n",
        "random_class_folder = random.choice(class_folders)\n",
        "\n",
        "# Get a random image from the selected class folder\n",
        "sample_image_path = os.path.join(random_class_folder, random.choice(os.listdir(random_class_folder)))\n",
        "print(f\"Sample Image Path: {sample_image_path}\")\n",
        "\n",
        "# Load and preprocess the image\n",
        "def preprocess_image(image_path, target_size=(224, 224)):\n",
        "    image = load_img(image_path, target_size=target_size)  # Resize image\n",
        "    image_array = img_to_array(image)  # Convert to array\n",
        "    image_array = np.expand_dims(image_array, axis=0)  # Add batch dimension\n",
        "    image_array = image_array / 255.0  # Normalize to [0, 1]\n",
        "    return image_array\n",
        "\n",
        "preprocessed_image = preprocess_image(sample_image_path)\n"
      ],
      "metadata": {
        "trusted": true,
        "execution": {
          "iopub.status.busy": "2024-12-30T02:25:28.394933Z",
          "iopub.execute_input": "2024-12-30T02:25:28.395684Z",
          "iopub.status.idle": "2024-12-30T02:25:28.409658Z",
          "shell.execute_reply.started": "2024-12-30T02:25:28.395651Z",
          "shell.execute_reply": "2024-12-30T02:25:28.408844Z"
        },
        "id": "m_KNJYHj7qBv"
      },
      "outputs": [],
      "execution_count": null
    },
    {
      "cell_type": "code",
      "source": [
        "print(ensemble_predict(preprocessed_image))"
      ],
      "metadata": {
        "trusted": true,
        "execution": {
          "iopub.status.busy": "2024-12-30T02:25:30.301071Z",
          "iopub.execute_input": "2024-12-30T02:25:30.301959Z",
          "iopub.status.idle": "2024-12-30T02:25:30.52145Z",
          "shell.execute_reply.started": "2024-12-30T02:25:30.301914Z",
          "shell.execute_reply": "2024-12-30T02:25:30.520554Z"
        },
        "id": "QQei3kG17qBv"
      },
      "outputs": [],
      "execution_count": null
    },
    {
      "cell_type": "code",
      "source": [],
      "metadata": {
        "trusted": true,
        "id": "sfM_32W77qBv"
      },
      "outputs": [],
      "execution_count": null
    },
    {
      "cell_type": "code",
      "source": [],
      "metadata": {
        "trusted": true,
        "id": "PYW-b50I7qBv"
      },
      "outputs": [],
      "execution_count": null
    },
    {
      "cell_type": "code",
      "source": [],
      "metadata": {
        "trusted": true,
        "id": "_83OQ-SH7qBv"
      },
      "outputs": [],
      "execution_count": null
    },
    {
      "cell_type": "code",
      "source": [],
      "metadata": {
        "trusted": true,
        "id": "ccnPCjIO7qBv"
      },
      "outputs": [],
      "execution_count": null
    },
    {
      "cell_type": "code",
      "source": [
        "'''\n",
        "\n",
        "model_evaluate_train = model_inception.evaluate(train_generator)\n",
        "print(\"Loss of Train       : \",model_evaluate_train[0])\n",
        "print(\"Accuracy of Train   : \",model_evaluate_train[1])\n",
        "print(\"Precision of Train  : \",model_evaluate_train[2])\n",
        "print(\"Recall of Train     : \",model_evaluate_train[3])'''"
      ],
      "metadata": {
        "trusted": true,
        "execution": {
          "iopub.status.busy": "2024-12-30T01:20:58.935428Z",
          "iopub.execute_input": "2024-12-30T01:20:58.935988Z",
          "iopub.status.idle": "2024-12-30T01:23:38.686007Z",
          "shell.execute_reply.started": "2024-12-30T01:20:58.935955Z",
          "shell.execute_reply": "2024-12-30T01:23:38.68505Z"
        },
        "id": "3HPlmwtL7qBv"
      },
      "outputs": [],
      "execution_count": null
    },
    {
      "cell_type": "code",
      "source": [],
      "metadata": {
        "trusted": true,
        "id": "xtE69_q97qBv"
      },
      "outputs": [],
      "execution_count": null
    },
    {
      "cell_type": "code",
      "source": [],
      "metadata": {
        "trusted": true,
        "id": "OK2Nx19o7qBv"
      },
      "outputs": [],
      "execution_count": null
    },
    {
      "cell_type": "code",
      "source": [],
      "metadata": {
        "trusted": true,
        "id": "f3UlwHuu7qBv"
      },
      "outputs": [],
      "execution_count": null
    },
    {
      "cell_type": "code",
      "source": [],
      "metadata": {
        "trusted": true,
        "id": "x6oGREtQ7qBw"
      },
      "outputs": [],
      "execution_count": null
    },
    {
      "cell_type": "code",
      "source": [],
      "metadata": {
        "trusted": true,
        "id": "ezRoJO3g7qBw"
      },
      "outputs": [],
      "execution_count": null
    },
    {
      "cell_type": "code",
      "source": [],
      "metadata": {
        "trusted": true,
        "id": "J8b60S6R7qBw"
      },
      "outputs": [],
      "execution_count": null
    },
    {
      "cell_type": "code",
      "source": [],
      "metadata": {
        "trusted": true,
        "id": "o_PUaHea7qBw"
      },
      "outputs": [],
      "execution_count": null
    },
    {
      "cell_type": "code",
      "source": [],
      "metadata": {
        "trusted": true,
        "id": "vTFrRSzB7qBw"
      },
      "outputs": [],
      "execution_count": null
    },
    {
      "cell_type": "code",
      "source": [
        "# Define batch size\n",
        "batch_size = 32\n",
        "\n",
        "# Create DataLoaders\n",
        "train_loader = DataLoader(train, batch_size=batch_size, num_workers=2, shuffle=True)\n",
        "valid_loader = DataLoader(valid, batch_size=batch_size,num_workers=2, shuffle=False)"
      ],
      "metadata": {
        "trusted": true,
        "id": "i_Des_Bd7qBw"
      },
      "outputs": [],
      "execution_count": null
    },
    {
      "cell_type": "code",
      "source": [
        "from tensorflow.keras.applications import ResNet50, InceptionV3, VGG16\n",
        "from tensorflow.keras.layers import Input, GlobalAveragePooling2D, Dense, Concatenate, Dropout\n",
        "from tensorflow.keras.models import Model\n",
        "from tensorflow.keras.optimizers import Adam\n",
        "\n",
        "# Define the number of classes\n",
        "num_classes = 38\n",
        "input_shape = (224, 224, 3)\n",
        "\n",
        "# ResNet50 Base Model\n",
        "resnet_base = ResNet50(weights='imagenet', include_top=False, input_shape=input_shape)\n",
        "for layer in resnet_base.layers:\n",
        "    layer.trainable = False  # Freeze layers\n",
        "resnet_out = GlobalAveragePooling2D()(resnet_base.output)\n",
        "\n",
        "# InceptionV3 Base Model\n",
        "inception_base = InceptionV3(weights='imagenet', include_top=False, input_shape=input_shape)\n",
        "for layer in inception_base.layers:\n",
        "    layer.trainable = False  # Freeze layers\n",
        "inception_out = GlobalAveragePooling2D()(inception_base.output)\n",
        "\n",
        "# VGG16 Base Model\n",
        "vgg_base = VGG16(weights='imagenet', include_top=False, input_shape=input_shape)\n",
        "for layer in vgg_base.layers:\n",
        "    layer.trainable = False  # Freeze layers\n",
        "vgg_out = GlobalAveragePooling2D()(vgg_base.output)"
      ],
      "metadata": {
        "trusted": true,
        "id": "73LKSfYx7qBw"
      },
      "outputs": [],
      "execution_count": null
    },
    {
      "cell_type": "code",
      "source": [
        "# Combine the outputs from the three models\n",
        "combined = Concatenate()([resnet_out, inception_out, vgg_out])\n"
      ],
      "metadata": {
        "trusted": true,
        "id": "JlyloQHI7qBw"
      },
      "outputs": [],
      "execution_count": null
    },
    {
      "cell_type": "code",
      "source": [
        "# Fully connected layers after concatenation\n",
        "x = Dense(512, activation='relu')(combined)  # First fully connected layer\n",
        "x = Dropout(0.5)(x)  # Add dropout to prevent overfitting\n",
        "x = Dense(256, activation='relu')(x)  # Second fully connected layer\n",
        "x = Dropout(0.3)(x)  # Add another dropout layer\n",
        "\n",
        "# Final classification layer with Softmax\n",
        "output = Dense(num_classes, activation='softmax')(x)\n",
        "\n",
        "# Define the ensemble model\n",
        "ensemble_model = Model(inputs=[resnet_base.input, inception_base.input, vgg_base.input], outputs=output)\n"
      ],
      "metadata": {
        "trusted": true,
        "id": "ihRBku847qBw"
      },
      "outputs": [],
      "execution_count": null
    },
    {
      "cell_type": "code",
      "source": [
        "# Compile the model\n",
        "ensemble_model.compile(optimizer=Adam(learning_rate=0.001),\n",
        "                       loss='categorical_crossentropy',\n",
        "                       metrics=['accuracy'])\n",
        "\n",
        "# Display model summary\n",
        "ensemble_model.summary()"
      ],
      "metadata": {
        "trusted": true,
        "id": "7WbTtezV7qBx"
      },
      "outputs": [],
      "execution_count": null
    },
    {
      "cell_type": "code",
      "source": [
        "from torch.utils.data import random_split\n",
        "\n",
        "# Define the sizes for validation and test datasets\n",
        "valid_size = int(0.5 * len(valid))  # 50% for validation\n",
        "test_size = len(valid) - valid_size  # Remaining 50% for testing\n",
        "\n",
        "# Split the dataset\n",
        "valid_images, test_images = random_split(valid, [valid_size, test_size])\n"
      ],
      "metadata": {
        "trusted": true,
        "id": "dwRiF2Eo7qBx"
      },
      "outputs": [],
      "execution_count": null
    },
    {
      "cell_type": "code",
      "source": [
        "from torch.utils.data import DataLoader\n",
        "\n",
        "# Hyperparameters\n",
        "batch_size = 32\n",
        "\n",
        "# DataLoaders for train, validation, and test sets\n",
        "train_loader = DataLoader(train, batch_size=batch_size, shuffle=True)\n",
        "valid_loader = DataLoader(valid_images, batch_size=batch_size, shuffle=True)\n",
        "test_loader = DataLoader(test_images, batch_size=batch_size, shuffle=False)\n"
      ],
      "metadata": {
        "trusted": true,
        "id": "d3qrl3jQ7qBx"
      },
      "outputs": [],
      "execution_count": null
    },
    {
      "cell_type": "code",
      "source": [
        "import numpy as np\n",
        "\n",
        "#Function to convert PyTorch DataLoader to NumPy arrays\n",
        "def dataloader_to_numpy(dataloader):\n",
        "    images = []\n",
        "    labels = []\n",
        "    for batch in dataloader:\n",
        "        x, y = batch\n",
        "        images.append(x.numpy())  # Convert images to numpy\n",
        "        labels.append(y.numpy())  # Convert labels to numpy\n",
        "    images = np.concatenate(images)  # Combine all batches\n",
        "    labels = np.concatenate(labels)\n",
        "    return images, labels\n",
        "\n",
        "# Convert DataLoaders to Numpy\n",
        "train_images, train_labels = dataloader_to_numpy(train_loader)\n",
        "valid_images, valid_labels = dataloader_to_numpy(valid_loader)\n",
        "test_images, test_labels = dataloader_to_numpy(test_loader)"
      ],
      "metadata": {
        "trusted": true,
        "id": "ZEMBeMuS7qBx"
      },
      "outputs": [],
      "execution_count": null
    },
    {
      "cell_type": "code",
      "source": [
        "def load_images_from_dir(directory):\n",
        "    image_paths = []\n",
        "    for root, dirs, files in os.walk(directory):\n",
        "        for file in files:\n",
        "            if file.lower().endswith(('.png', '.jpg', '.jpeg')):  # Add other extensions if needed\n",
        "                image_paths.append(os.path.join(root, file))\n",
        "    return image_paths\n",
        "\n",
        "# Extract images\n",
        "train_images = load_images_from_dir(train_dir)\n",
        "val_images = load_images_from_dir(valid_dir)\n",
        "\n",
        "# If test images are part of the valid_dir, adjust path accordingly\n",
        "test_dir = os.path.join(valid_dir, 'test')  # Update if necessary\n",
        "test_images = load_images_from_dir(test_dir)\n",
        "\n",
        "# Summary\n",
        "print(f\"Number of training images: {len(train_images)}\")\n",
        "print(f\"Number of validation images: {len(val_images)}\")\n",
        "print(f\"Number of testing images: {len(test_images)}\")\n",
        "\n",
        "\n",
        "train_images = train_images / 255.0\n",
        "valid_images = valid_images / 255.0\n",
        "test_images = test_images / 255.0\n"
      ],
      "metadata": {
        "trusted": true,
        "id": "FUbcOICL7qBx"
      },
      "outputs": [],
      "execution_count": null
    },
    {
      "cell_type": "code",
      "source": [
        "# Fit the ensemble model\n",
        "history = ensemble_model.fit(\n",
        "    [train_loader, train_loader, train_loader],  # Inputs for ResNet, Inception, VGG\n",
        "    train_labels,  # True labels\n",
        "    validation_data=([val_loader, val_loader, val_loader], val_labels),  # Validation data\n",
        "    batch_size=32,\n",
        "    epochs=20\n",
        ")\n"
      ],
      "metadata": {
        "trusted": true,
        "id": "Y2UxIcjY7qBx"
      },
      "outputs": [],
      "execution_count": null
    },
    {
      "cell_type": "code",
      "source": [],
      "metadata": {
        "trusted": true,
        "id": "XtaZcuSn7qBx"
      },
      "outputs": [],
      "execution_count": null
    },
    {
      "cell_type": "code",
      "source": [
        "test_loss, test_accuracy = ensemble_model.evaluate(\n",
        "    [test_images, test_images, test_images], test_labels, batch_size=32\n",
        ")\n",
        "\n",
        "print(f\"Test Accuracy: {test_accuracy * 100:.2f}%\")\n"
      ],
      "metadata": {
        "trusted": true,
        "id": "9IFpmCE37qBx"
      },
      "outputs": [],
      "execution_count": null
    },
    {
      "cell_type": "code",
      "source": [],
      "metadata": {
        "trusted": true,
        "id": "vpFEVsvr7qBx"
      },
      "outputs": [],
      "execution_count": null
    }
  ]
}